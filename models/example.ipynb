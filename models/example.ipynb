{
 "cells": [
  {
   "cell_type": "code",
   "execution_count": null,
   "metadata": {},
   "outputs": [],
   "source": [
    "import random \n",
    "import numpy as np \n",
    "import pandas as pd\n",
    "\n",
    "from surprise import Dataset, Reader, NormalPredictor\n",
    "from surprise.model_selection import train_test_split\n",
    "from utils.transformacion import *\n",
    "from utils.recomendaciones import recomendaciones_top_n_surprise\n",
    "from utils.modelos import RecommenderSystemSurprise\n",
    "\n",
    "VAR_SEED = 42\n",
    "VAR_TESTSET_SIZE = 0.20\n",
    "VAR_DIR_DATA_CLEAN = '../data/cleaning'\n",
    "\n",
    "random.seed(VAR_SEED)\n",
    "np.random.seed(VAR_SEED)\n",
    "\n",
    "df_dataset = pd.read_csv(f\"{VAR_DIR_DATA_CLEAN}/mf_dataset.csv\", sep=\",\", encoding=\"latin1\")\n",
    "\n",
    "df_catalogo = pd.read_csv(f\"{VAR_DIR_DATA_CLEAN}/catalogo.csv\", sep=\",\", encoding=\"latin1\")\n",
    "df_catalogo = calcular_ratio_interacciones(df_dataset, df_catalogo)\n",
    "df_catalogo = calcular_puntuacion_dataset(\n",
    "    dataframe=df_catalogo, \n",
    "    caracteristicas={\"hito\": (1, 4), \"skill\": (0, 15), \"knowledge\": (1, 15), \"ratio_interaccion\": (0, 1)}, \n",
    "    pesos={\"hito\": 0.4, \"skill\": 0.25, \"knowledge\": 0.25, \"ratio_interaccion\": 0.1}, \n",
    "    nueva_columna='score'\n",
    ")\n",
    "df_catalogo = df_catalogo[['id_ejercicio', 'nombre', 'hito', 'skill', 'knowledge', 'complexity', 'ratio_interaccion', 'score']]\n",
    "\n",
    "df_ratings = factorizacion_a_calificaciones(df_catalogo, df_dataset, 'id_estudiante')"
   ]
  },
  {
   "cell_type": "code",
   "execution_count": null,
   "metadata": {},
   "outputs": [],
   "source": [
    "import pandas as pd\n",
    "from pandas import DataFrame\n",
    "from surprise import SVD, Reader, Dataset, accuracy\n",
    "from surprise.model_selection import cross_validate\n",
    "from joblib import dump, load\n",
    "from typing import Tuple, Optional\n",
    "\n",
    "class RecommenderSystemSurprise:\n",
    "    def __init__(self, algorithm=SVD(), model_path: str = 'svd_model.joblib'):\n",
    "        self.model = algorithm\n",
    "        self.model_path = model_path\n",
    "        self.data = None\n",
    "        self.trainset = None\n",
    "\n",
    "    def load_data(self, dataframe: DataFrame, rating_scale: Tuple[float, float]):\n",
    "        reader = Reader(rating_scale=rating_scale)\n",
    "        self.data = Dataset.load_from_df(dataframe, reader)\n",
    "\n",
    "    def train(self):\n",
    "        if not self.data:\n",
    "            raise ValueError(\"Data not loaded. Use 'load_data' to load a DataFrame first.\")\n",
    "        self.trainset = self.data.build_full_trainset()\n",
    "        self.model.fit(self.trainset)\n",
    "        print(\"[+] Model trained.\")\n",
    "\n",
    "    def evaluate(self, cv: int = 5):\n",
    "        if not self.data:\n",
    "            raise ValueError(\"Data not loaded. Use 'load_data' to load a DataFrame first.\")\n",
    "        return cross_validate(self.model, self.data, measures=['RMSE', 'MAE'], cv=cv, verbose=True)\n",
    "\n",
    "    def predict(self, user_id, item_id):\n",
    "        if not self.trainset:\n",
    "            raise ValueError(\"Model not trained. Use 'train' to train the model first.\")\n",
    "        return self.model.predict(user_id, item_id).est\n",
    "\n",
    "    def get_recommendations(self, user_id: int, user_column: str = 'user_id', item_column: str = 'item_id', n_recommendations: int = 10):\n",
    "        if not self.trainset:\n",
    "            raise ValueError(\"Model not trained. Use 'train' to train the model first.\")\n",
    "        \n",
    "        df = self.data.df\n",
    "        items_interacted = df[df[user_column] == user_id][item_column].unique()\n",
    "        all_items = df[item_column].unique()\n",
    "        item_pairs = [(user_id, item, 0) for item in set(all_items) - set(items_interacted)]\n",
    "        \n",
    "        recommendations = sorted(self.model.test(item_pairs), key=lambda x: x.est, reverse=True)[:n_recommendations]\n",
    "        return [int(pred.iid) for pred in recommendations]\n",
    "\n",
    "    def save_model(self):\n",
    "        dump(self.model, self.model_path)\n",
    "        print(f\"[+] Model saved to {self.model_path}.\")\n",
    "\n",
    "    def load_model(self):\n",
    "        self.model = load(self.model_path)\n",
    "        print(f\"[+] Model loaded from {self.model_path}.\")\n",
    "\n",
    "    def update_and_retrain(self, new_dataframe: DataFrame, rating_scale: Tuple[float, float]):\n",
    "        if not self.data:\n",
    "            raise ValueError(\"Data not loaded. Use 'load_data' to load an initial DataFrame first.\")\n",
    "        \n",
    "        updated_df = pd.concat([self.data.df, new_dataframe]).drop_duplicates()\n",
    "        self.load_data(updated_df, rating_scale)\n",
    "        self.train()\n",
    "        print(\"[+] Model updated and retrained with new data.\")\n",
    "\n",
    "    def evaluate_recommendations(self, n_recommendations: int = 10) -> Tuple[float, float, float]:\n",
    "        if not self.trainset:\n",
    "            raise ValueError(\"Model not trained. Use 'train' to train the model first.\")\n",
    "        \n",
    "        testset = self.trainset.build_anti_testset()\n",
    "        predictions = self.model.test(testset)\n",
    "        \n",
    "        user_est_true = {}\n",
    "        for pred in predictions:\n",
    "            user_est_true.setdefault(pred.uid, []).append((pred.iid, pred.est, pred.r_ui))\n",
    "        \n",
    "        precisions, recalls, avg_precisions = [], [], []\n",
    "        for ratings in user_est_true.values():\n",
    "            ratings.sort(key=lambda x: x[1], reverse=True)\n",
    "            relevant_items = sum((1 for (_, _, true_r) in ratings if true_r > 0))\n",
    "            if relevant_items == 0:\n",
    "                continue\n",
    "\n",
    "            recommended_items = ratings[:n_recommendations]\n",
    "            n_relevant_recommended = sum((1 for (_, _, true_r) in recommended_items if true_r > 0))\n",
    "            \n",
    "            precisions.append(n_relevant_recommended / n_recommendations)\n",
    "            recalls.append(n_relevant_recommended / relevant_items)\n",
    "            \n",
    "            hits, avg_precision = 0, 0.0\n",
    "            for i, (_, _, true_r) in enumerate(recommended_items):\n",
    "                if true_r > 0:\n",
    "                    hits += 1\n",
    "                    avg_precision += hits / (i + 1)\n",
    "            avg_precisions.append(avg_precision / min(relevant_items, n_recommendations))\n",
    "\n",
    "        precision = sum(precisions) / len(precisions) if precisions else 0\n",
    "        recall = sum(recalls) / len(recalls) if recalls else 0\n",
    "        map_score = sum(avg_precisions) / len(avg_precisions) if avg_precisions else 0\n",
    "\n",
    "        return precision, recall, map_score\n"
   ]
  },
  {
   "cell_type": "code",
   "execution_count": null,
   "metadata": {},
   "outputs": [],
   "source": []
  },
  {
   "cell_type": "code",
   "execution_count": null,
   "metadata": {},
   "outputs": [],
   "source": []
  },
  {
   "cell_type": "code",
   "execution_count": 13,
   "metadata": {},
   "outputs": [
    {
     "name": "stdout",
     "output_type": "stream",
     "text": [
      "[+] Model trained.\n",
      "Evaluating RMSE, MAE of algorithm NormalPredictor on 5 split(s).\n",
      "\n",
      "                  Fold 1  Fold 2  Fold 3  Fold 4  Fold 5  Mean    Std     \n",
      "RMSE (testset)    0.0814  0.0850  0.0845  0.0840  0.0831  0.0836  0.0013  \n",
      "MAE (testset)     0.0646  0.0669  0.0665  0.0665  0.0656  0.0660  0.0008  \n",
      "Fit time          0.02    0.01    0.01    0.01    0.01    0.01    0.00    \n",
      "Test time         0.01    0.01    0.01    0.01    0.01    0.01    0.00    \n"
     ]
    }
   ],
   "source": [
    "recommender = RecommenderSystemSurprise(algorithm=NormalPredictor(), model_path='dumps/RecommenderSystemSurprise.joblib')\n",
    "recommender.load_data(dataframe=df_ratings[['id_estudiante', 'id_ejercicio', 'score']], rating_scale=(0, 1))\n",
    "recommender.train()\n",
    "results = recommender.evaluate()"
   ]
  },
  {
   "cell_type": "code",
   "execution_count": 14,
   "metadata": {},
   "outputs": [
    {
     "data": {
      "text/plain": [
       "{'test_rmse': array([0.08142641, 0.08503462, 0.08452267, 0.08399566, 0.0831398 ]),\n",
       " 'test_mae': array([0.06458156, 0.06690754, 0.06647707, 0.06645095, 0.06558055]),\n",
       " 'fit_time': (0.019783735275268555,\n",
       "  0.008750200271606445,\n",
       "  0.007593393325805664,\n",
       "  0.011216878890991211,\n",
       "  0.0070705413818359375),\n",
       " 'test_time': (0.007931232452392578,\n",
       "  0.00843501091003418,\n",
       "  0.00542902946472168,\n",
       "  0.005909442901611328,\n",
       "  0.009302616119384766)}"
      ]
     },
     "execution_count": 14,
     "metadata": {},
     "output_type": "execute_result"
    }
   ],
   "source": [
    "results"
   ]
  },
  {
   "cell_type": "code",
   "execution_count": 15,
   "metadata": {},
   "outputs": [
    {
     "data": {
      "text/plain": [
       "0.12978040437936825"
      ]
     },
     "execution_count": 15,
     "metadata": {},
     "output_type": "execute_result"
    }
   ],
   "source": [
    "recommender.predict(user_id=0, item_id=1)"
   ]
  },
  {
   "cell_type": "code",
   "execution_count": 16,
   "metadata": {},
   "outputs": [],
   "source": [
    "recomendaciones = recommender.get_recommendations(user_id=0, user_column='id_estudiante', item_column='id_ejercicio')"
   ]
  },
  {
   "cell_type": "code",
   "execution_count": 17,
   "metadata": {},
   "outputs": [
    {
     "data": {
      "text/html": [
       "<div>\n",
       "<style scoped>\n",
       "    .dataframe tbody tr th:only-of-type {\n",
       "        vertical-align: middle;\n",
       "    }\n",
       "\n",
       "    .dataframe tbody tr th {\n",
       "        vertical-align: top;\n",
       "    }\n",
       "\n",
       "    .dataframe thead th {\n",
       "        text-align: right;\n",
       "    }\n",
       "</style>\n",
       "<table border=\"1\" class=\"dataframe\">\n",
       "  <thead>\n",
       "    <tr style=\"text-align: right;\">\n",
       "      <th></th>\n",
       "      <th>id_ejercicio</th>\n",
       "      <th>nombre</th>\n",
       "      <th>hito</th>\n",
       "      <th>skill</th>\n",
       "      <th>knowledge</th>\n",
       "      <th>complexity</th>\n",
       "      <th>ratio_interaccion</th>\n",
       "      <th>score</th>\n",
       "    </tr>\n",
       "  </thead>\n",
       "  <tbody>\n",
       "    <tr>\n",
       "      <th>7</th>\n",
       "      <td>7</td>\n",
       "      <td>Resolver un sistema de ecuaciones</td>\n",
       "      <td>1</td>\n",
       "      <td>0</td>\n",
       "      <td>1</td>\n",
       "      <td>1</td>\n",
       "      <td>0.254569</td>\n",
       "      <td>0.025457</td>\n",
       "    </tr>\n",
       "    <tr>\n",
       "      <th>8</th>\n",
       "      <td>8</td>\n",
       "      <td>Distancia Levenshtein</td>\n",
       "      <td>2</td>\n",
       "      <td>3</td>\n",
       "      <td>7</td>\n",
       "      <td>55</td>\n",
       "      <td>0.027415</td>\n",
       "      <td>0.293218</td>\n",
       "    </tr>\n",
       "    <tr>\n",
       "      <th>9</th>\n",
       "      <td>9</td>\n",
       "      <td>Validar Secuencias de ADN</td>\n",
       "      <td>2</td>\n",
       "      <td>2</td>\n",
       "      <td>7</td>\n",
       "      <td>39</td>\n",
       "      <td>0.054830</td>\n",
       "      <td>0.279293</td>\n",
       "    </tr>\n",
       "    <tr>\n",
       "      <th>11</th>\n",
       "      <td>11</td>\n",
       "      <td>Adivina la palabra</td>\n",
       "      <td>2</td>\n",
       "      <td>2</td>\n",
       "      <td>7</td>\n",
       "      <td>39</td>\n",
       "      <td>0.049608</td>\n",
       "      <td>0.278770</td>\n",
       "    </tr>\n",
       "    <tr>\n",
       "      <th>13</th>\n",
       "      <td>13</td>\n",
       "      <td>Cajero AutomÃ¡tico Nivel 2</td>\n",
       "      <td>1</td>\n",
       "      <td>1</td>\n",
       "      <td>3</td>\n",
       "      <td>19</td>\n",
       "      <td>0.304178</td>\n",
       "      <td>0.082799</td>\n",
       "    </tr>\n",
       "    <tr>\n",
       "      <th>21</th>\n",
       "      <td>21</td>\n",
       "      <td>El antipoema</td>\n",
       "      <td>2</td>\n",
       "      <td>2</td>\n",
       "      <td>7</td>\n",
       "      <td>39</td>\n",
       "      <td>0.048303</td>\n",
       "      <td>0.278640</td>\n",
       "    </tr>\n",
       "    <tr>\n",
       "      <th>31</th>\n",
       "      <td>31</td>\n",
       "      <td>Carro de Compras</td>\n",
       "      <td>2</td>\n",
       "      <td>2</td>\n",
       "      <td>7</td>\n",
       "      <td>39</td>\n",
       "      <td>0.005222</td>\n",
       "      <td>0.274332</td>\n",
       "    </tr>\n",
       "    <tr>\n",
       "      <th>33</th>\n",
       "      <td>33</td>\n",
       "      <td>Alineamiento de Secuencias</td>\n",
       "      <td>2</td>\n",
       "      <td>4</td>\n",
       "      <td>7</td>\n",
       "      <td>71</td>\n",
       "      <td>0.014360</td>\n",
       "      <td>0.308579</td>\n",
       "    </tr>\n",
       "    <tr>\n",
       "      <th>37</th>\n",
       "      <td>37</td>\n",
       "      <td>Jerigonzo</td>\n",
       "      <td>2</td>\n",
       "      <td>2</td>\n",
       "      <td>7</td>\n",
       "      <td>39</td>\n",
       "      <td>0.240209</td>\n",
       "      <td>0.297830</td>\n",
       "    </tr>\n",
       "    <tr>\n",
       "      <th>48</th>\n",
       "      <td>48</td>\n",
       "      <td>Sopa de Letras</td>\n",
       "      <td>2</td>\n",
       "      <td>5</td>\n",
       "      <td>7</td>\n",
       "      <td>87</td>\n",
       "      <td>0.005222</td>\n",
       "      <td>0.324332</td>\n",
       "    </tr>\n",
       "  </tbody>\n",
       "</table>\n",
       "</div>"
      ],
      "text/plain": [
       "    id_ejercicio                             nombre  hito  skill  knowledge  \\\n",
       "7              7  Resolver un sistema de ecuaciones     1      0          1   \n",
       "8              8              Distancia Levenshtein     2      3          7   \n",
       "9              9          Validar Secuencias de ADN     2      2          7   \n",
       "11            11                 Adivina la palabra     2      2          7   \n",
       "13            13         Cajero AutomÃ¡tico Nivel 2     1      1          3   \n",
       "21            21                       El antipoema     2      2          7   \n",
       "31            31                   Carro de Compras     2      2          7   \n",
       "33            33         Alineamiento de Secuencias     2      4          7   \n",
       "37            37                          Jerigonzo     2      2          7   \n",
       "48            48                     Sopa de Letras     2      5          7   \n",
       "\n",
       "    complexity  ratio_interaccion     score  \n",
       "7            1           0.254569  0.025457  \n",
       "8           55           0.027415  0.293218  \n",
       "9           39           0.054830  0.279293  \n",
       "11          39           0.049608  0.278770  \n",
       "13          19           0.304178  0.082799  \n",
       "21          39           0.048303  0.278640  \n",
       "31          39           0.005222  0.274332  \n",
       "33          71           0.014360  0.308579  \n",
       "37          39           0.240209  0.297830  \n",
       "48          87           0.005222  0.324332  "
      ]
     },
     "execution_count": 17,
     "metadata": {},
     "output_type": "execute_result"
    }
   ],
   "source": [
    "df_catalogo[df_catalogo['id_ejercicio'].isin(recomendaciones)]"
   ]
  },
  {
   "cell_type": "code",
   "execution_count": 18,
   "metadata": {},
   "outputs": [
    {
     "name": "stdout",
     "output_type": "stream",
     "text": [
      "[+] Model saved to dumps/RecommenderSystemSurprise.joblib.\n"
     ]
    }
   ],
   "source": [
    "recommender.save_model()"
   ]
  },
  {
   "cell_type": "code",
   "execution_count": 19,
   "metadata": {},
   "outputs": [
    {
     "name": "stdout",
     "output_type": "stream",
     "text": [
      "[+] Model loaded from dumps/RecommenderSystemSurprise.joblib.\n"
     ]
    }
   ],
   "source": [
    "recommender.load_model()"
   ]
  },
  {
   "cell_type": "code",
   "execution_count": 20,
   "metadata": {},
   "outputs": [
    {
     "name": "stdout",
     "output_type": "stream",
     "text": [
      "[+] Model trained.\n",
      "[+] Model updated and retrained with new data.\n"
     ]
    }
   ],
   "source": [
    "recommender.update_and_retrain(new_dataframe=df_ratings[['id_estudiante', 'id_ejercicio', 'score']], rating_scale=(0, 1))"
   ]
  },
  {
   "cell_type": "code",
   "execution_count": 21,
   "metadata": {},
   "outputs": [],
   "source": [
    "metricas = recommender.evaluate_recommendations()"
   ]
  },
  {
   "cell_type": "code",
   "execution_count": 22,
   "metadata": {},
   "outputs": [
    {
     "data": {
      "text/plain": [
       "(0.982483660130719, 0.5959026017865332, 1.0)"
      ]
     },
     "execution_count": 22,
     "metadata": {},
     "output_type": "execute_result"
    }
   ],
   "source": [
    "metricas"
   ]
  },
  {
   "cell_type": "code",
   "execution_count": null,
   "metadata": {},
   "outputs": [],
   "source": []
  },
  {
   "cell_type": "code",
   "execution_count": null,
   "metadata": {},
   "outputs": [],
   "source": []
  }
 ],
 "metadata": {
  "kernelspec": {
   "display_name": ".sistema-de-recomendacion-unab-env",
   "language": "python",
   "name": "python3"
  },
  "language_info": {
   "codemirror_mode": {
    "name": "ipython",
    "version": 3
   },
   "file_extension": ".py",
   "mimetype": "text/x-python",
   "name": "python",
   "nbconvert_exporter": "python",
   "pygments_lexer": "ipython3",
   "version": "3.12.3"
  }
 },
 "nbformat": 4,
 "nbformat_minor": 2
}
