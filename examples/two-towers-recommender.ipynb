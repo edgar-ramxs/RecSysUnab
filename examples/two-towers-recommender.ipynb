{
 "cells": [
  {
   "cell_type": "markdown",
   "id": "b405d56e",
   "metadata": {
    "papermill": {
     "duration": 0.009897,
     "end_time": "2023-10-01T13:50:12.645865",
     "exception": false,
     "start_time": "2023-10-01T13:50:12.635968",
     "status": "completed"
    },
    "tags": []
   },
   "source": [
    "## Two Towers Recommender in Tensorflow/Keras - Training and Deployment"
   ]
  },
  {
   "cell_type": "markdown",
   "id": "e53d9157",
   "metadata": {
    "papermill": {
     "duration": 0.008903,
     "end_time": "2023-10-01T13:50:12.664013",
     "exception": false,
     "start_time": "2023-10-01T13:50:12.655110",
     "status": "completed"
    },
    "tags": []
   },
   "source": [
    "This notebook implements the Two Towers Recommender in a recruiting solution.\n",
    "\n",
    "Google has two products that help operationalize recommenders. One is Tensorflow Recommenders, that are built on Keras and are some are used for retrieval and ranking of candidates, like the Two Towers algorithm. The other is the Matching Engine, that compares embeddings and looks for Top K similarities. The Matching Engine compares the embeddings of a given query (candidate competences) with the embeddings of an index of vacancies to provide the TOP 10 nearest neighbors.\n",
    "\n",
    "\n",
    "<div align='center'>\n",
    "   <img src=\"https://1.bp.blogspot.com/-Rsymb9XvPOE/Xx8rfRnmTHI/AAAAAAAAGRQ/U2n_bBNXS4IBstYrx2IalrFXufLUvmn2gCLcBGAsYHQ/s640/ScaNN%2Btom%2Bexport.gif\">\n",
    "</div>\n",
    "\n",
    "Recommender systems are often composed of three stages:\n",
    "- The <b>retrieval</b> stage is responsible for selecting an initial set of hundreds of candidates from all possible candidates.\n",
    "- The <b>ranking</b> stage takes the outputs of the retrieval model and fine-tunes them to select the best possible handful of recommendations, what I called TOP K.\n",
    "- The <b>filtering</b> stage filters the TOP K results so that you only get relevant results.\n",
    "\n",
    "<div align='center'>\n",
    "   <img src=\"https://miro.medium.com/v2/resize:fit:786/format:webp/1*od4VCyVmh4VMZgcxnyiPCA.png\">\n",
    "    </p>\n",
    "    A two-stage recommender system that serves users highly personalized content within the strict latency. It consists\n",
    "of an efficient candidate generation model in the first stage and a more powerful ranking model in the second stage.\n",
    "    Source: https://dl.acm.org/doi/abs/10.1145/3366423.3380130\n",
    "</div>\n",
    "</p>\n",
    "More comprehensive explanations as well as production level deployments are found at the following articles on Google Blog and my Medium:\n",
    "</p>\n",
    "<b>Off-policy Learning in Two-stage Recommender Systems</b> https://dl.acm.org/doi/abs/10.1145/3366423.3380130\n",
    "\n",
    "<b>Announcing ScaNN: Efficient Vector Similarity Search</b> https://blog.research.google/2020/07/announcing-scann-efficient-vector.html?m=1\n",
    "\n",
    "<b>Train and Deploy Google Cloud’s Two Towers Recommender</b> https://medium.com/p/3ae5c29891af\n",
    "\n",
    "<b>Two Towers Model: A Custom Pipeline in Vertex AI Using Kubeflow</b> https://medium.com/p/3451cd1ca8d5"
   ]
  },
  {
   "cell_type": "markdown",
   "id": "5dab756c",
   "metadata": {
    "papermill": {
     "duration": 0.008967,
     "end_time": "2023-10-01T13:50:12.682165",
     "exception": false,
     "start_time": "2023-10-01T13:50:12.673198",
     "status": "completed"
    },
    "tags": []
   },
   "source": [
    "## Dependencies\n",
    "\n",
    "The Two Towers model has two sub-models: a query model and a candidate model as you will see ahead. So, let’s put it in practice with Python. First, install necessary libraries. If you are using Vertex AI, in Workbench choose Tensorflow 2.8 without GPU image, zone us-central1.\n",
    "\n",
    "As SCANN installation is quite critical, you may want to run a factory reset in Kaggle notebook before each time you open it to make it work properly.\n"
   ]
  },
  {
   "cell_type": "code",
   "execution_count": 1,
   "id": "eee88804",
   "metadata": {
    "_cell_guid": "b1076dfc-b9ad-4769-8c92-a6c4dae69d19",
    "_uuid": "8f2839f25d086af736a60e9eeb907d3b93b6e0e5",
    "execution": {
     "iopub.execute_input": "2023-10-01T13:50:12.702650Z",
     "iopub.status.busy": "2023-10-01T13:50:12.701913Z",
     "iopub.status.idle": "2023-10-01T13:51:51.173935Z",
     "shell.execute_reply": "2023-10-01T13:51:51.165753Z"
    },
    "papermill": {
     "duration": 98.498697,
     "end_time": "2023-10-01T13:51:51.189906",
     "exception": false,
     "start_time": "2023-10-01T13:50:12.691209",
     "status": "completed"
    },
    "tags": []
   },
   "outputs": [
    {
     "name": "stdout",
     "output_type": "stream",
     "text": [
      "\u001b[31mERROR: pip's dependency resolver does not currently take into account all the packages that are installed. This behaviour is the source of the following dependency conflicts.\r\n",
      "apache-beam 2.46.0 requires dill<0.3.2,>=0.3.1.1, but you have dill 0.3.7 which is incompatible.\r\n",
      "chex 0.1.82 requires numpy>=1.25.0, but you have numpy 1.23.5 which is incompatible.\r\n",
      "pymc3 3.11.5 requires numpy<1.22.2,>=1.15.0, but you have numpy 1.23.5 which is incompatible.\r\n",
      "pymc3 3.11.5 requires scipy<1.8.0,>=1.7.3, but you have scipy 1.11.2 which is incompatible.\r\n",
      "tensorflow-decision-forests 1.4.0 requires tensorflow~=2.12.0, but you have tensorflow 2.13.1 which is incompatible.\r\n",
      "tensorflow-text 2.12.1 requires tensorflow<2.13,>=2.12.0; platform_machine != \"arm64\" or platform_system != \"Darwin\", but you have tensorflow 2.13.1 which is incompatible.\r\n",
      "ydata-profiling 4.3.1 requires scipy<1.11,>=1.4.1, but you have scipy 1.11.2 which is incompatible.\u001b[0m\u001b[31m\r\n",
      "\u001b[0m"
     ]
    }
   ],
   "source": [
    "! pip install tensorflow-text --quiet\n",
    "! pip install tensorflow-recommenders --quiet\n",
    "! pip install scann --quiet"
   ]
  },
  {
   "cell_type": "markdown",
   "id": "455da7e7",
   "metadata": {
    "papermill": {
     "duration": 0.025248,
     "end_time": "2023-10-01T13:51:51.254201",
     "exception": false,
     "start_time": "2023-10-01T13:51:51.228953",
     "status": "completed"
    },
    "tags": []
   },
   "source": [
    "Now, let's import necessary libraries:"
   ]
  },
  {
   "cell_type": "code",
   "execution_count": 2,
   "id": "c2b953f8",
   "metadata": {
    "execution": {
     "iopub.execute_input": "2023-10-01T13:51:51.294004Z",
     "iopub.status.busy": "2023-10-01T13:51:51.292765Z",
     "iopub.status.idle": "2023-10-01T13:52:00.755839Z",
     "shell.execute_reply": "2023-10-01T13:52:00.754660Z"
    },
    "papermill": {
     "duration": 9.48223,
     "end_time": "2023-10-01T13:52:00.759949",
     "exception": false,
     "start_time": "2023-10-01T13:51:51.277719",
     "status": "completed"
    },
    "tags": []
   },
   "outputs": [],
   "source": [
    "import pprint\n",
    "import tempfile\n",
    "from typing import Dict, Text\n",
    "import numpy as np\n",
    "import tensorflow as tf\n",
    "import tensorflow_recommenders as tfrs \n",
    "import os\n",
    "import unidecode\n",
    "from nltk import word_tokenize\n",
    "import re\n",
    "import pandas as pd"
   ]
  },
  {
   "cell_type": "markdown",
   "id": "afda9bae",
   "metadata": {
    "papermill": {
     "duration": 0.013211,
     "end_time": "2023-10-01T13:52:00.785745",
     "exception": false,
     "start_time": "2023-10-01T13:52:00.772534",
     "status": "completed"
    },
    "tags": []
   },
   "source": [
    "Here I'm using a custom dataset I obtained manually from websites like Indeed and LinkedIn, that contains the vacancy URL, name of the vacancy, name of the company, size of the company, language, country, state, city, decription of the vacancy, benefits and desired competences, separated in columns. This dataset is now public in Kaggle."
   ]
  },
  {
   "cell_type": "markdown",
   "id": "d35e96f3",
   "metadata": {
    "papermill": {
     "duration": 0.010553,
     "end_time": "2023-10-01T13:52:00.807767",
     "exception": false,
     "start_time": "2023-10-01T13:52:00.797214",
     "status": "completed"
    },
    "tags": []
   },
   "source": [
    "## Dataset"
   ]
  },
  {
   "cell_type": "code",
   "execution_count": 3,
   "id": "4864c34a",
   "metadata": {
    "execution": {
     "iopub.execute_input": "2023-10-01T13:52:00.831443Z",
     "iopub.status.busy": "2023-10-01T13:52:00.830102Z",
     "iopub.status.idle": "2023-10-01T13:52:01.129638Z",
     "shell.execute_reply": "2023-10-01T13:52:01.128528Z"
    },
    "papermill": {
     "duration": 0.318861,
     "end_time": "2023-10-01T13:52:01.137086",
     "exception": false,
     "start_time": "2023-10-01T13:52:00.818225",
     "status": "completed"
    },
    "tags": []
   },
   "outputs": [
    {
     "data": {
      "text/html": [
       "<div>\n",
       "<style scoped>\n",
       "    .dataframe tbody tr th:only-of-type {\n",
       "        vertical-align: middle;\n",
       "    }\n",
       "\n",
       "    .dataframe tbody tr th {\n",
       "        vertical-align: top;\n",
       "    }\n",
       "\n",
       "    .dataframe thead th {\n",
       "        text-align: right;\n",
       "    }\n",
       "</style>\n",
       "<table border=\"1\" class=\"dataframe\">\n",
       "  <thead>\n",
       "    <tr style=\"text-align: right;\">\n",
       "      <th></th>\n",
       "      <th>Site</th>\n",
       "      <th>nome da vaga</th>\n",
       "      <th>nome da empresa</th>\n",
       "      <th>tamanho da empresa</th>\n",
       "      <th>linguagem</th>\n",
       "      <th>pais</th>\n",
       "      <th>estado</th>\n",
       "      <th>cidade da vaga</th>\n",
       "      <th>descrição</th>\n",
       "      <th>beneficios</th>\n",
       "      <th>vaga de diversidade</th>\n",
       "      <th>data da postagem</th>\n",
       "    </tr>\n",
       "  </thead>\n",
       "  <tbody>\n",
       "    <tr>\n",
       "      <th>0</th>\n",
       "      <td>https://co.indeed.com/viewjob?jk=4756032fee4cc...</td>\n",
       "      <td>cajero auxiliar cartagena</td>\n",
       "      <td>eficacia s.a.</td>\n",
       "      <td>más de 10 000</td>\n",
       "      <td>espanhol</td>\n",
       "      <td>Colômbia</td>\n",
       "      <td>bolívar</td>\n",
       "      <td>Cartagena</td>\n",
       "      <td>buscamos cajeros con excelente presentacion pe...</td>\n",
       "      <td>prestaciones de ley + recargos dominicales, fe...</td>\n",
       "      <td>0</td>\n",
       "      <td>Publicado 12/08</td>\n",
       "    </tr>\n",
       "    <tr>\n",
       "      <th>1</th>\n",
       "      <td>https://co.indeed.com/viewjob?jk=7c64b755eff2b...</td>\n",
       "      <td>Asesora Comercial</td>\n",
       "      <td>Arquitectura &amp; Concreto</td>\n",
       "      <td>0</td>\n",
       "      <td>espanhol</td>\n",
       "      <td>Colômbia</td>\n",
       "      <td>bolívar</td>\n",
       "      <td>Cartagena</td>\n",
       "      <td>Buscamos formar un equipo de #ExpertosEnVivien...</td>\n",
       "      <td>0</td>\n",
       "      <td>0</td>\n",
       "      <td>Publicado 17/07</td>\n",
       "    </tr>\n",
       "    <tr>\n",
       "      <th>2</th>\n",
       "      <td>https://co.indeed.com/ver-empleo?cmp=MATERIALE...</td>\n",
       "      <td>Auxiliar administrativo Sala de Ventas</td>\n",
       "      <td>MATERIALES EMO S.A.S</td>\n",
       "      <td>0</td>\n",
       "      <td>espanhol</td>\n",
       "      <td>Colômbia</td>\n",
       "      <td>bolívar</td>\n",
       "      <td>Cartagena</td>\n",
       "      <td>Materiales EMO S.A.S. requiere para su equipo ...</td>\n",
       "      <td>0</td>\n",
       "      <td>0</td>\n",
       "      <td>Publicado 15/07</td>\n",
       "    </tr>\n",
       "    <tr>\n",
       "      <th>3</th>\n",
       "      <td>https://www.linkedin.com/jobs/view/3217837570</td>\n",
       "      <td>Analista de Operaciones</td>\n",
       "      <td>WTW</td>\n",
       "      <td>Más de 10.001</td>\n",
       "      <td>espanhol</td>\n",
       "      <td>Colômbia</td>\n",
       "      <td>Antioquia</td>\n",
       "      <td>Medellín</td>\n",
       "      <td>En WTW Medellin estamos buscando el mejor tale...</td>\n",
       "      <td>0</td>\n",
       "      <td>0</td>\n",
       "      <td>Publicado 17/08</td>\n",
       "    </tr>\n",
       "    <tr>\n",
       "      <th>4</th>\n",
       "      <td>https://co.indeed.com/viewjob?jk=877449a4a37f4...</td>\n",
       "      <td>Asistente administrativa</td>\n",
       "      <td>PTA SAS</td>\n",
       "      <td>0</td>\n",
       "      <td>espanhol</td>\n",
       "      <td>Colômbia</td>\n",
       "      <td>bolívar</td>\n",
       "      <td>Cartagena</td>\n",
       "      <td>En esta oferta de empleo buscamos personas que...</td>\n",
       "      <td>0</td>\n",
       "      <td>0</td>\n",
       "      <td>Publicado 17/07</td>\n",
       "    </tr>\n",
       "    <tr>\n",
       "      <th>5</th>\n",
       "      <td>https://co.indeed.com/viewjob?jk=8c01c2806707c...</td>\n",
       "      <td>Production &amp; Site Logistics Support</td>\n",
       "      <td>Corteva Agriscience</td>\n",
       "      <td>más de 10 000</td>\n",
       "      <td>espanhol</td>\n",
       "      <td>Colômbia</td>\n",
       "      <td>bolívar</td>\n",
       "      <td>Cartagena</td>\n",
       "      <td>Brindar soporte a la planta por medio del lide...</td>\n",
       "      <td>0</td>\n",
       "      <td>0</td>\n",
       "      <td>Publicado 03/08</td>\n",
       "    </tr>\n",
       "    <tr>\n",
       "      <th>6</th>\n",
       "      <td>https://www.linkedin.com/jobs/view/3218977358</td>\n",
       "      <td>Especialista de Plataformas de contact Center</td>\n",
       "      <td>Banco Davivienda</td>\n",
       "      <td>Más de 10.001</td>\n",
       "      <td>espanhol</td>\n",
       "      <td>Colômbia</td>\n",
       "      <td>Bogota</td>\n",
       "      <td>Bogota</td>\n",
       "      <td>En esta casa vivimos la transformación con inn...</td>\n",
       "      <td>0</td>\n",
       "      <td>0</td>\n",
       "      <td>Publicado 17/07</td>\n",
       "    </tr>\n",
       "    <tr>\n",
       "      <th>7</th>\n",
       "      <td>https://co.indeed.com/viewjob?jk=7c295d78c59d0...</td>\n",
       "      <td>Asesores y Colaboradores comerciales con exper...</td>\n",
       "      <td>ENERGY CARTAGO</td>\n",
       "      <td>0</td>\n",
       "      <td>espanhol</td>\n",
       "      <td>Colômbia</td>\n",
       "      <td>bolívar</td>\n",
       "      <td>Cartagena</td>\n",
       "      <td>ENERGY CARTAGO te ofrece la oportunidad de tra...</td>\n",
       "      <td>0</td>\n",
       "      <td>0</td>\n",
       "      <td>Publicado 12/08</td>\n",
       "    </tr>\n",
       "    <tr>\n",
       "      <th>8</th>\n",
       "      <td>https://www.linkedin.com/jobs/view/3226227120</td>\n",
       "      <td>Ejecutivo de cuentas</td>\n",
       "      <td>iAgency</td>\n",
       "      <td>11-50 funcionarios</td>\n",
       "      <td>espanhol</td>\n",
       "      <td>Colômbia</td>\n",
       "      <td>Antioquia</td>\n",
       "      <td>Medellín</td>\n",
       "      <td>RESPONSABILIDADES DEL CARGO:\\n\\nEste perfil de...</td>\n",
       "      <td>-Presencial de lunes a viernes en Medellín\\n\\n...</td>\n",
       "      <td>0</td>\n",
       "      <td>Publicado 17/08</td>\n",
       "    </tr>\n",
       "    <tr>\n",
       "      <th>9</th>\n",
       "      <td>https://co.indeed.com/viewjob?jk=05390d2ef4cf9...</td>\n",
       "      <td>Reclutador TI - Trabajo Remoto</td>\n",
       "      <td>BairesDev</td>\n",
       "      <td>De 1001 a 5000</td>\n",
       "      <td>espanhol</td>\n",
       "      <td>Colômbia</td>\n",
       "      <td>bolívar</td>\n",
       "      <td>Cartagena</td>\n",
       "      <td>Buscamos un Reclutador TI para sumarse al equi...</td>\n",
       "      <td>Trabajo 100% remoto.\\nConfiguración de hardwar...</td>\n",
       "      <td>0</td>\n",
       "      <td>Publicado 03/08</td>\n",
       "    </tr>\n",
       "  </tbody>\n",
       "</table>\n",
       "</div>"
      ],
      "text/plain": [
       "                                               Site   \\\n",
       "0  https://co.indeed.com/viewjob?jk=4756032fee4cc...   \n",
       "1  https://co.indeed.com/viewjob?jk=7c64b755eff2b...   \n",
       "2  https://co.indeed.com/ver-empleo?cmp=MATERIALE...   \n",
       "3      https://www.linkedin.com/jobs/view/3217837570   \n",
       "4  https://co.indeed.com/viewjob?jk=877449a4a37f4...   \n",
       "5  https://co.indeed.com/viewjob?jk=8c01c2806707c...   \n",
       "6      https://www.linkedin.com/jobs/view/3218977358   \n",
       "7  https://co.indeed.com/viewjob?jk=7c295d78c59d0...   \n",
       "8      https://www.linkedin.com/jobs/view/3226227120   \n",
       "9  https://co.indeed.com/viewjob?jk=05390d2ef4cf9...   \n",
       "\n",
       "                                        nome da vaga          nome da empresa  \\\n",
       "0                          cajero auxiliar cartagena            eficacia s.a.   \n",
       "1                                  Asesora Comercial  Arquitectura & Concreto   \n",
       "2             Auxiliar administrativo Sala de Ventas     MATERIALES EMO S.A.S   \n",
       "3                            Analista de Operaciones                      WTW   \n",
       "4                           Asistente administrativa                  PTA SAS   \n",
       "5                Production & Site Logistics Support      Corteva Agriscience   \n",
       "6      Especialista de Plataformas de contact Center         Banco Davivienda   \n",
       "7  Asesores y Colaboradores comerciales con exper...           ENERGY CARTAGO   \n",
       "8                               Ejecutivo de cuentas                  iAgency   \n",
       "9                     Reclutador TI - Trabajo Remoto                BairesDev   \n",
       "\n",
       "   tamanho da empresa linguagem      pais     estado cidade da vaga  \\\n",
       "0       más de 10 000  espanhol  Colômbia    bolívar      Cartagena   \n",
       "1                   0  espanhol  Colômbia    bolívar      Cartagena   \n",
       "2                   0  espanhol  Colômbia    bolívar      Cartagena   \n",
       "3       Más de 10.001  espanhol  Colômbia  Antioquia       Medellín   \n",
       "4                   0  espanhol  Colômbia    bolívar      Cartagena   \n",
       "5       más de 10 000  espanhol  Colômbia    bolívar      Cartagena   \n",
       "6       Más de 10.001  espanhol  Colômbia     Bogota         Bogota   \n",
       "7                   0  espanhol  Colômbia    bolívar      Cartagena   \n",
       "8  11-50 funcionarios  espanhol  Colômbia  Antioquia       Medellín   \n",
       "9      De 1001 a 5000  espanhol  Colômbia    bolívar      Cartagena   \n",
       "\n",
       "                                           descrição  \\\n",
       "0  buscamos cajeros con excelente presentacion pe...   \n",
       "1  Buscamos formar un equipo de #ExpertosEnVivien...   \n",
       "2  Materiales EMO S.A.S. requiere para su equipo ...   \n",
       "3  En WTW Medellin estamos buscando el mejor tale...   \n",
       "4  En esta oferta de empleo buscamos personas que...   \n",
       "5  Brindar soporte a la planta por medio del lide...   \n",
       "6  En esta casa vivimos la transformación con inn...   \n",
       "7  ENERGY CARTAGO te ofrece la oportunidad de tra...   \n",
       "8  RESPONSABILIDADES DEL CARGO:\\n\\nEste perfil de...   \n",
       "9  Buscamos un Reclutador TI para sumarse al equi...   \n",
       "\n",
       "                                          beneficios vaga de diversidade  \\\n",
       "0  prestaciones de ley + recargos dominicales, fe...                   0   \n",
       "1                                                  0                   0   \n",
       "2                                                  0                   0   \n",
       "3                                                  0                   0   \n",
       "4                                                  0                   0   \n",
       "5                                                  0                   0   \n",
       "6                                                  0                   0   \n",
       "7                                                  0                   0   \n",
       "8  -Presencial de lunes a viernes en Medellín\\n\\n...                   0   \n",
       "9  Trabajo 100% remoto.\\nConfiguración de hardwar...                   0   \n",
       "\n",
       "  data da postagem  \n",
       "0  Publicado 12/08  \n",
       "1  Publicado 17/07  \n",
       "2  Publicado 15/07  \n",
       "3  Publicado 17/08  \n",
       "4  Publicado 17/07  \n",
       "5  Publicado 03/08  \n",
       "6  Publicado 17/07  \n",
       "7  Publicado 12/08  \n",
       "8  Publicado 17/08  \n",
       "9  Publicado 03/08  "
      ]
     },
     "execution_count": 3,
     "metadata": {},
     "output_type": "execute_result"
    }
   ],
   "source": [
    "df=pd.read_csv('/kaggle/input/recruiting-dataset-in-spanish/Recruiting_Dataset_spanish.csv',sep=';',header=0)\n",
    "df.iloc[:10,0:12]"
   ]
  },
  {
   "cell_type": "markdown",
   "id": "d161503b",
   "metadata": {
    "papermill": {
     "duration": 0.014446,
     "end_time": "2023-10-01T13:52:01.173916",
     "exception": false,
     "start_time": "2023-10-01T13:52:01.159470",
     "status": "completed"
    },
    "tags": []
   },
   "source": [
    "As you can notice above, upper case and lower case words are mixed and requirements of the vacancy (requisito) are split in columns. We also have special characters and numbers mixed with text. We are going to clean all these features, convert to lower case and unidecode them, in order to Tensorflow correctly accept the variables."
   ]
  },
  {
   "cell_type": "code",
   "execution_count": 4,
   "id": "cfd600a0",
   "metadata": {
    "execution": {
     "iopub.execute_input": "2023-10-01T13:52:01.346613Z",
     "iopub.status.busy": "2023-10-01T13:52:01.345245Z",
     "iopub.status.idle": "2023-10-01T13:52:02.487109Z",
     "shell.execute_reply": "2023-10-01T13:52:02.485950Z"
    },
    "papermill": {
     "duration": 1.293882,
     "end_time": "2023-10-01T13:52:02.489449",
     "exception": false,
     "start_time": "2023-10-01T13:52:01.195567",
     "status": "completed"
    },
    "tags": []
   },
   "outputs": [],
   "source": [
    "df['descrição']=df['descrição'].map(lambda x: re.sub(r'[\\W\\s]', ' ', str(x)).lower()).astype(str).map(lambda x: (''.join(unidecode.unidecode(x))))\n",
    "df['cidade da vaga']=df['cidade da vaga'].map(lambda x: re.sub(r'[\\W\\s]', ' ', str(x)).lower()).astype(str).map(lambda x: (''.join(unidecode.unidecode(x))))\n",
    "df['requisito_1']=df['requisito_1'].map(lambda x: re.sub(r'[\\W\\s]', ' ', str(x)).lower()).astype(str).map(lambda x: (''.join(unidecode.unidecode(x))))\n",
    "df['requisito_2']=df['requisito_2'].map(lambda x: re.sub(r'[\\W\\s]', ' ', str(x)).lower()).astype(str).map(lambda x: (''.join(unidecode.unidecode(x))))\n",
    "df['requisito_3']=df['requisito_3'].map(lambda x: re.sub(r'[\\W\\s]', ' ', str(x)).lower()).astype(str).map(lambda x: (''.join(unidecode.unidecode(x))))\n",
    "df['requisito_4']=df['requisito_4'].map(lambda x: re.sub(r'[\\W\\s]', ' ', str(x)).lower()).astype(str).map(lambda x: (''.join(unidecode.unidecode(x))))\n",
    "df['requisito_5']=df['requisito_5'].map(lambda x: re.sub(r'[\\W\\s]', ' ', str(x)).lower()).astype(str).map(lambda x: (''.join(unidecode.unidecode(x))))\n",
    "df['requisito_6']=df['requisito_6'].map(lambda x: re.sub(r'[\\W\\s]', ' ', str(x)).lower()).astype(str).map(lambda x: (''.join(unidecode.unidecode(x))))\n",
    "df['requisito_7']=df['requisito_7'].map(lambda x: re.sub(r'[\\W\\s]', ' ', str(x)).lower()).astype(str).map(lambda x: (''.join(unidecode.unidecode(x))))\n"
   ]
  },
  {
   "cell_type": "markdown",
   "id": "5091f660",
   "metadata": {
    "papermill": {
     "duration": 0.010815,
     "end_time": "2023-10-01T13:52:02.510831",
     "exception": false,
     "start_time": "2023-10-01T13:52:02.500016",
     "status": "completed"
    },
    "tags": []
   },
   "source": [
    "Next, we will concatenate features description of the vacancy, city of vacancy and requirements,generating a new feature called <b>\"requisitos\"</b>"
   ]
  },
  {
   "cell_type": "code",
   "execution_count": 5,
   "id": "518935d4",
   "metadata": {
    "execution": {
     "iopub.execute_input": "2023-10-01T13:52:02.533717Z",
     "iopub.status.busy": "2023-10-01T13:52:02.532915Z",
     "iopub.status.idle": "2023-10-01T13:52:02.577321Z",
     "shell.execute_reply": "2023-10-01T13:52:02.576597Z"
    },
    "papermill": {
     "duration": 0.058641,
     "end_time": "2023-10-01T13:52:02.579620",
     "exception": false,
     "start_time": "2023-10-01T13:52:02.520979",
     "status": "completed"
    },
    "tags": []
   },
   "outputs": [],
   "source": [
    "df['requisitos']=df['descrição']+' '+df['cidade da vaga']+' '+df['requisito_1']+' '+df['requisito_2']+' '+df['requisito_3']+' '+df['requisito_4']+' '+df['requisito_5']+' '+df['requisito_6']+' '+df['requisito_7'] "
   ]
  },
  {
   "cell_type": "markdown",
   "id": "dcc4c77d",
   "metadata": {
    "papermill": {
     "duration": 0.009814,
     "end_time": "2023-10-01T13:52:02.599808",
     "exception": false,
     "start_time": "2023-10-01T13:52:02.589994",
     "status": "completed"
    },
    "tags": []
   },
   "source": [
    "Here is a sample of <b>df.requisitos</b>"
   ]
  },
  {
   "cell_type": "code",
   "execution_count": 6,
   "id": "37204c13",
   "metadata": {
    "execution": {
     "iopub.execute_input": "2023-10-01T13:52:02.622221Z",
     "iopub.status.busy": "2023-10-01T13:52:02.621188Z",
     "iopub.status.idle": "2023-10-01T13:52:02.628164Z",
     "shell.execute_reply": "2023-10-01T13:52:02.627305Z"
    },
    "papermill": {
     "duration": 0.020144,
     "end_time": "2023-10-01T13:52:02.630108",
     "exception": false,
     "start_time": "2023-10-01T13:52:02.609964",
     "status": "completed"
    },
    "tags": []
   },
   "outputs": [
    {
     "data": {
      "text/plain": [
       "'en colombia esl nos encontramos en la bu squeda de nuestro customer service   jr  manager con experiencia en el sector de call center  cuya funcio n sera  administrar  planificar  gestionar servicios de post venta del call center  asegurando la correcta atencio n de nuestros estudiantes de manera proactiva manteniendo un relacionamiento positivo y de confianza que permita dar seguimiento a posibles problemas cri ticos o altamente sensibles que ellos puedan manifestar  brinda ndoles las alternativas de solucio n y asesoramiento que se traduzcan en acciones efectivas  en pro de disminuir su desercio n  aumentar sus niveles de satisfaccio n y lealtad   funciones para desempen ar  asegurar que nuestros estudiantes y clientes corporativos reciban los servicios contratados de acuerdo con los niveles de calidad esperados  generando acciones efectivas cuando sea necesario en pro a disminuir su posible desercio n  entregando constante retroalimentacio n a las a reas acade micas y operativas frente a los aspectos cri ticos de mejora que sean evidenciados   trabajar estrechamente con los equipos de ventas  marketing y operaciones para asegurar que se cumplan los objetivos del call center y de la marca  transmitiendo la percepcio n y nivel de satisfaccio n de nuestros estudiantes para impulsar la mejora continua en todo el equipo   anticipar puntos cri ticos de una situacio n o problema  estableciendo controles y mecanismos de coordinacio n  buscando informacio n externa para asegurar la calidad de los procesos y solucio n eficaz   proporcionar orientacio n y capacitacio n sobre la aplicacio n y el entorno te cnico  asi  como recomendar mejoras para optimizar continuamente las habilidades del grupo en torno a la satisfaccio n del cliente y la resolucio n de problemas   encargarse del ana lisis  desarrollo y control del ciclo de servicio generando estrategias enfocadas al posicionamiento efectivo de nuestro de call center y fidelizacio n de nuestros estudiantes bogota profesional en a reas de administracio n  preferiblemente con especializacio n en a reas de servicio al cliente bilingu e b2   c1 experiencia 2 an os de experiencia como supervisor senior  coordinador  li der o jefe en servicio al cliente  ventas y gestio n de cuentas en empresas bpo o de call center excelente comunicacio n y habilidad para liderar equipos cooperacio n  trabajo en equipo alta capacidad de relacionamiento 0'"
      ]
     },
     "execution_count": 6,
     "metadata": {},
     "output_type": "execute_result"
    }
   ],
   "source": [
    "df['requisitos'].iloc[10]"
   ]
  },
  {
   "cell_type": "markdown",
   "id": "b9eb1071",
   "metadata": {
    "papermill": {
     "duration": 0.009924,
     "end_time": "2023-10-01T13:52:02.650517",
     "exception": false,
     "start_time": "2023-10-01T13:52:02.640593",
     "status": "completed"
    },
    "tags": []
   },
   "source": [
    "Now we clean the vacancy names and assign it to a new variable <b>Vacancy_name</b>"
   ]
  },
  {
   "cell_type": "code",
   "execution_count": 7,
   "id": "fb0c1c9c",
   "metadata": {
    "execution": {
     "iopub.execute_input": "2023-10-01T13:52:02.672850Z",
     "iopub.status.busy": "2023-10-01T13:52:02.672213Z",
     "iopub.status.idle": "2023-10-01T13:52:02.691212Z",
     "shell.execute_reply": "2023-10-01T13:52:02.690431Z"
    },
    "papermill": {
     "duration": 0.032274,
     "end_time": "2023-10-01T13:52:02.692959",
     "exception": false,
     "start_time": "2023-10-01T13:52:02.660685",
     "status": "completed"
    },
    "tags": []
   },
   "outputs": [
    {
     "data": {
      "text/plain": [
       "0                    Cajero Auxiliar Cartagena\n",
       "1                            Asesora Comercial\n",
       "2       Auxiliar Administrativo Sala De Ventas\n",
       "3                      Analista De Operaciones\n",
       "4                     Asistente Administrativa\n",
       "                         ...                  \n",
       "2996         Analista De Bases De Datos Oracle\n",
       "2997                      Asistente De Cartera\n",
       "2998                                 Webmaster\n",
       "2999                   Sales Admin Coordinator\n",
       "3000                       Vendedor Online Usa\n",
       "Name: Vacancy_name, Length: 3001, dtype: object"
      ]
     },
     "execution_count": 7,
     "metadata": {},
     "output_type": "execute_result"
    }
   ],
   "source": [
    "df['Vacancy_name']=df['nome da vaga'].map(lambda x: str(re.sub('[^A-Za-z]+', ' ', x)).title())\n",
    "df['Vacancy_name']"
   ]
  },
  {
   "cell_type": "markdown",
   "id": "fca3b589",
   "metadata": {
    "papermill": {
     "duration": 0.025498,
     "end_time": "2023-10-01T13:52:02.743241",
     "exception": false,
     "start_time": "2023-10-01T13:52:02.717743",
     "status": "completed"
    },
    "tags": []
   },
   "source": [
    "As you may notice,as the descriptions and requirements differ according to the vacancy, we have different lengths:"
   ]
  },
  {
   "cell_type": "markdown",
   "id": "3753552c",
   "metadata": {
    "papermill": {
     "duration": 0.025352,
     "end_time": "2023-10-01T13:52:02.794476",
     "exception": false,
     "start_time": "2023-10-01T13:52:02.769124",
     "status": "completed"
    },
    "tags": []
   },
   "source": [
    "We must pad the <b>requisitos</b> variable examples with <b>zeros</b> so that all of them have the same length. Here I removed all words shorter than 3 characters, because it seems to help matching. "
   ]
  },
  {
   "cell_type": "code",
   "execution_count": 8,
   "id": "e642941a",
   "metadata": {
    "execution": {
     "iopub.execute_input": "2023-10-01T13:52:02.847903Z",
     "iopub.status.busy": "2023-10-01T13:52:02.847260Z",
     "iopub.status.idle": "2023-10-01T13:52:04.839989Z",
     "shell.execute_reply": "2023-10-01T13:52:04.838923Z"
    },
    "papermill": {
     "duration": 2.022115,
     "end_time": "2023-10-01T13:52:04.842350",
     "exception": false,
     "start_time": "2023-10-01T13:52:02.820235",
     "status": "completed"
    },
    "tags": []
   },
   "outputs": [
    {
     "name": "stdout",
     "output_type": "stream",
     "text": [
      "480\n",
      "480\n",
      "480\n",
      "480\n",
      "480\n",
      "480\n",
      "480\n",
      "480\n",
      "480\n",
      "480\n",
      "480\n",
      "480\n",
      "480\n",
      "480\n",
      "480\n",
      "480\n",
      "480\n",
      "480\n",
      "480\n",
      "480\n"
     ]
    }
   ],
   "source": [
    "df['requisitos']=df['requisitos'].map(lambda x: ' '.join([i for i in word_tokenize(str(x)) if len(i)>3]))\n",
    "df['requisitos']=df['requisitos'].map(lambda x: (''.join(unidecode.unidecode(x))+500*' zero')[:480]).astype(str)\n",
    "for i in range(0,20):\n",
    "    print(len(df['requisitos'].iloc[i]))"
   ]
  },
  {
   "cell_type": "markdown",
   "id": "8d2d5714",
   "metadata": {
    "papermill": {
     "duration": 0.010332,
     "end_time": "2023-10-01T13:52:04.863642",
     "exception": false,
     "start_time": "2023-10-01T13:52:04.853310",
     "status": "completed"
    },
    "tags": []
   },
   "source": [
    "Now we will create the Tensorflow dataset, from the dataframe <b>df</b> dictionary"
   ]
  },
  {
   "cell_type": "code",
   "execution_count": 9,
   "id": "1e0f6453",
   "metadata": {
    "execution": {
     "iopub.execute_input": "2023-10-01T13:52:04.886612Z",
     "iopub.status.busy": "2023-10-01T13:52:04.886235Z",
     "iopub.status.idle": "2023-10-01T13:52:05.000777Z",
     "shell.execute_reply": "2023-10-01T13:52:04.999894Z"
    },
    "papermill": {
     "duration": 0.128914,
     "end_time": "2023-10-01T13:52:05.003123",
     "exception": false,
     "start_time": "2023-10-01T13:52:04.874209",
     "status": "completed"
    },
    "tags": []
   },
   "outputs": [],
   "source": [
    "df=df[['Vacancy_name','requisitos']]\n",
    "my_dict=dict(df.iloc[0:int(df.shape[0]),:])\n",
    "requirements = tf.data.Dataset.from_tensor_slices(my_dict).map(lambda x: {\n",
    "    \"Vacancy_name\": x[\"Vacancy_name\"],\n",
    "    \"requisitos\": tf.strings.split(x[\"requisitos\"],maxsplit=280)\n",
    "})"
   ]
  },
  {
   "cell_type": "markdown",
   "id": "201b576f",
   "metadata": {
    "papermill": {
     "duration": 0.01087,
     "end_time": "2023-10-01T13:52:05.025901",
     "exception": false,
     "start_time": "2023-10-01T13:52:05.015031",
     "status": "completed"
    },
    "tags": []
   },
   "source": [
    "Here, I check the minimum length of the variable <b>requisitos</b>"
   ]
  },
  {
   "cell_type": "code",
   "execution_count": 10,
   "id": "0cc5b04a",
   "metadata": {
    "execution": {
     "iopub.execute_input": "2023-10-01T13:52:05.051273Z",
     "iopub.status.busy": "2023-10-01T13:52:05.050884Z",
     "iopub.status.idle": "2023-10-01T13:52:05.992319Z",
     "shell.execute_reply": "2023-10-01T13:52:05.991059Z"
    },
    "papermill": {
     "duration": 0.957626,
     "end_time": "2023-10-01T13:52:05.994836",
     "exception": false,
     "start_time": "2023-10-01T13:52:05.037210",
     "status": "completed"
    },
    "tags": []
   },
   "outputs": [
    {
     "name": "stdout",
     "output_type": "stream",
     "text": [
      "43\n"
     ]
    }
   ],
   "source": [
    "l=[]\n",
    "for x in requirements.as_numpy_iterator():\n",
    "    #pprint.pprint(len(x['requisitos']))\n",
    "    l.append(len(x['requisitos']))\n",
    "\n",
    "print(min(l))\n",
    "\n",
    "requirements = tf.data.Dataset.from_tensor_slices(my_dict).map(lambda x: {\n",
    "    \"Vacancy_name\": x[\"Vacancy_name\"],\n",
    "    \"requisitos\": tf.strings.split(x[\"requisitos\"],maxsplit=min(l))\n",
    "})"
   ]
  },
  {
   "cell_type": "markdown",
   "id": "5c29ab5e",
   "metadata": {
    "papermill": {
     "duration": 0.013304,
     "end_time": "2023-10-01T13:52:06.021544",
     "exception": false,
     "start_time": "2023-10-01T13:52:06.008240",
     "status": "completed"
    },
    "tags": []
   },
   "source": [
    "Now we shuffle the dataset and split it into <b>train</b> and <b>test</b> sets:"
   ]
  },
  {
   "cell_type": "code",
   "execution_count": 11,
   "id": "8f8ea91f",
   "metadata": {
    "execution": {
     "iopub.execute_input": "2023-10-01T13:52:06.046010Z",
     "iopub.status.busy": "2023-10-01T13:52:06.045483Z",
     "iopub.status.idle": "2023-10-01T13:52:06.062731Z",
     "shell.execute_reply": "2023-10-01T13:52:06.061670Z"
    },
    "papermill": {
     "duration": 0.032492,
     "end_time": "2023-10-01T13:52:06.065016",
     "exception": false,
     "start_time": "2023-10-01T13:52:06.032524",
     "status": "completed"
    },
    "tags": []
   },
   "outputs": [],
   "source": [
    "shuffled = requirements.shuffle(int(df.shape[0]), seed=42, reshuffle_each_iteration=False)\n",
    "\n",
    "train = shuffled.take(int(df.shape[0]*0.9))\n",
    "test = shuffled.take(int(df.shape[0]*0.1))"
   ]
  },
  {
   "cell_type": "markdown",
   "id": "063fcb07",
   "metadata": {
    "papermill": {
     "duration": 0.010783,
     "end_time": "2023-10-01T13:52:06.086866",
     "exception": false,
     "start_time": "2023-10-01T13:52:06.076083",
     "status": "completed"
    },
    "tags": []
   },
   "source": [
    "Now it is necessary to create the vocabulary for each one of the model towers:"
   ]
  },
  {
   "cell_type": "markdown",
   "id": "0c852e8b",
   "metadata": {
    "papermill": {
     "duration": 0.010231,
     "end_time": "2023-10-01T13:52:06.107542",
     "exception": false,
     "start_time": "2023-10-01T13:52:06.097311",
     "status": "completed"
    },
    "tags": []
   },
   "source": [
    "## Vocabulary"
   ]
  },
  {
   "cell_type": "code",
   "execution_count": 12,
   "id": "55d65695",
   "metadata": {
    "execution": {
     "iopub.execute_input": "2023-10-01T13:52:06.130233Z",
     "iopub.status.busy": "2023-10-01T13:52:06.129879Z",
     "iopub.status.idle": "2023-10-01T13:52:06.146625Z",
     "shell.execute_reply": "2023-10-01T13:52:06.145635Z"
    },
    "papermill": {
     "duration": 0.030442,
     "end_time": "2023-10-01T13:52:06.148517",
     "exception": false,
     "start_time": "2023-10-01T13:52:06.118075",
     "status": "completed"
    },
    "tags": []
   },
   "outputs": [
    {
     "data": {
      "text/plain": [
       "array([' Auxiliar De Almac N',\n",
       "       ' Auxiliar De Servicios Generales Medio Tiempo Floridablanca',\n",
       "       ' Data Scientist', ..., 'Xdgen Functional Edition Colombia',\n",
       "       'Zoho Agente De Soporte', 'Zoho Analyst Hunting'], dtype='<U92')"
      ]
     },
     "execution_count": 12,
     "metadata": {},
     "output_type": "execute_result"
    }
   ],
   "source": [
    "unique_vacancy_titles = np.unique(list(df.Vacancy_name))\n",
    "unique_vacancy_titles"
   ]
  },
  {
   "cell_type": "code",
   "execution_count": 13,
   "id": "ef198b43",
   "metadata": {
    "execution": {
     "iopub.execute_input": "2023-10-01T13:52:06.172289Z",
     "iopub.status.busy": "2023-10-01T13:52:06.171933Z",
     "iopub.status.idle": "2023-10-01T13:52:06.373664Z",
     "shell.execute_reply": "2023-10-01T13:52:06.372582Z"
    },
    "papermill": {
     "duration": 0.216323,
     "end_time": "2023-10-01T13:52:06.375983",
     "exception": false,
     "start_time": "2023-10-01T13:52:06.159660",
     "status": "completed"
    },
    "tags": []
   },
   "outputs": [
    {
     "data": {
      "text/plain": [
       "array(['', '00am', '00pm', ..., 'zoologia', 'zoom', 'zootecnista'],\n",
       "      dtype='<U22')"
      ]
     },
     "execution_count": 13,
     "metadata": {},
     "output_type": "execute_result"
    }
   ],
   "source": [
    "unique_requirements = np.unique(' '.join(list(df.requisitos)).split(' '))\n",
    "unique_requirements"
   ]
  },
  {
   "cell_type": "markdown",
   "id": "a71a5278",
   "metadata": {
    "papermill": {
     "duration": 0.01119,
     "end_time": "2023-10-01T13:52:06.398568",
     "exception": false,
     "start_time": "2023-10-01T13:52:06.387378",
     "status": "completed"
    },
    "tags": []
   },
   "source": [
    "We define the embeddings dimension:"
   ]
  },
  {
   "cell_type": "code",
   "execution_count": 14,
   "id": "f8c28d09",
   "metadata": {
    "execution": {
     "iopub.execute_input": "2023-10-01T13:52:06.423508Z",
     "iopub.status.busy": "2023-10-01T13:52:06.422450Z",
     "iopub.status.idle": "2023-10-01T13:52:06.427825Z",
     "shell.execute_reply": "2023-10-01T13:52:06.426731Z"
    },
    "papermill": {
     "duration": 0.019466,
     "end_time": "2023-10-01T13:52:06.429826",
     "exception": false,
     "start_time": "2023-10-01T13:52:06.410360",
     "status": "completed"
    },
    "tags": []
   },
   "outputs": [],
   "source": [
    "embedding_dimension = 768"
   ]
  },
  {
   "cell_type": "markdown",
   "id": "408a9a9a",
   "metadata": {
    "papermill": {
     "duration": 0.01075,
     "end_time": "2023-10-01T13:52:06.452007",
     "exception": false,
     "start_time": "2023-10-01T13:52:06.441257",
     "status": "completed"
    },
    "tags": []
   },
   "source": [
    "Then we create the <b>candidate requirements model</b>, checking the stability of the shapes:"
   ]
  },
  {
   "cell_type": "markdown",
   "id": "cf0ff19e",
   "metadata": {
    "papermill": {
     "duration": 0.011175,
     "end_time": "2023-10-01T13:52:06.474164",
     "exception": false,
     "start_time": "2023-10-01T13:52:06.462989",
     "status": "completed"
    },
    "tags": []
   },
   "source": [
    "## The Candidate Model"
   ]
  },
  {
   "cell_type": "code",
   "execution_count": 15,
   "id": "daa7d764",
   "metadata": {
    "execution": {
     "iopub.execute_input": "2023-10-01T13:52:06.498264Z",
     "iopub.status.busy": "2023-10-01T13:52:06.497205Z",
     "iopub.status.idle": "2023-10-01T13:52:06.893176Z",
     "shell.execute_reply": "2023-10-01T13:52:06.891751Z"
    },
    "papermill": {
     "duration": 0.410432,
     "end_time": "2023-10-01T13:52:06.895525",
     "exception": false,
     "start_time": "2023-10-01T13:52:06.485093",
     "status": "completed"
    },
    "tags": []
   },
   "outputs": [
    {
     "name": "stdout",
     "output_type": "stream",
     "text": [
      "(44, 768)\n",
      "(44, 768)\n",
      "(44, 768)\n",
      "(44, 768)\n",
      "(44, 768)\n"
     ]
    }
   ],
   "source": [
    "requirements_model = tf.keras.Sequential([\n",
    "  tf.keras.layers.StringLookup(\n",
    "      vocabulary=unique_requirements, mask_token=None),\n",
    "  # We add an additional embedding to account for unknown tokens.\n",
    "  tf.keras.layers.Embedding(len(unique_requirements) + 1, embedding_dimension),\n",
    "  \n",
    "])\n",
    "\n",
    "for x in train.take(5).as_numpy_iterator():\n",
    "    pprint.pprint(np.array(requirements_model(x['requisitos'])).shape)\n"
   ]
  },
  {
   "cell_type": "markdown",
   "id": "5dc5f5a4",
   "metadata": {
    "papermill": {
     "duration": 0.010589,
     "end_time": "2023-10-01T13:52:06.917112",
     "exception": false,
     "start_time": "2023-10-01T13:52:06.906523",
     "status": "completed"
    },
    "tags": []
   },
   "source": [
    "We do the same for the <b>vacancies model</b>:"
   ]
  },
  {
   "cell_type": "markdown",
   "id": "9c089056",
   "metadata": {
    "papermill": {
     "duration": 0.010451,
     "end_time": "2023-10-01T13:52:06.938519",
     "exception": false,
     "start_time": "2023-10-01T13:52:06.928068",
     "status": "completed"
    },
    "tags": []
   },
   "source": [
    "## The Vacancy Model"
   ]
  },
  {
   "cell_type": "code",
   "execution_count": 16,
   "id": "dbef2435",
   "metadata": {
    "execution": {
     "iopub.execute_input": "2023-10-01T13:52:06.962244Z",
     "iopub.status.busy": "2023-10-01T13:52:06.961265Z",
     "iopub.status.idle": "2023-10-01T13:52:07.169540Z",
     "shell.execute_reply": "2023-10-01T13:52:07.168212Z"
    },
    "papermill": {
     "duration": 0.222922,
     "end_time": "2023-10-01T13:52:07.171957",
     "exception": false,
     "start_time": "2023-10-01T13:52:06.949035",
     "status": "completed"
    },
    "tags": []
   },
   "outputs": [
    {
     "name": "stdout",
     "output_type": "stream",
     "text": [
      "(768,)\n",
      "(768,)\n",
      "(768,)\n",
      "(768,)\n",
      "(768,)\n"
     ]
    }
   ],
   "source": [
    "vacancy_model = tf.keras.Sequential([\n",
    "  tf.keras.layers.StringLookup(\n",
    "      vocabulary=unique_vacancy_titles, mask_token=None),\n",
    "  tf.keras.layers.Embedding(len(unique_vacancy_titles) + 1, embedding_dimension)\n",
    "])\n",
    "\n",
    "for x in train.take(5).as_numpy_iterator():\n",
    "    pprint.pprint(np.array(vacancy_model(x['Vacancy_name'])).shape)\n"
   ]
  },
  {
   "cell_type": "markdown",
   "id": "3702bd0d",
   "metadata": {
    "papermill": {
     "duration": 0.010538,
     "end_time": "2023-10-01T13:52:07.193804",
     "exception": false,
     "start_time": "2023-10-01T13:52:07.183266",
     "status": "completed"
    },
    "tags": []
   },
   "source": [
    "Then we define the <b>Factorized Top K metric</b> for retrieval, given that we want to return the Top 10 vacancy names according to the skills of a given candidate:"
   ]
  },
  {
   "cell_type": "code",
   "execution_count": 17,
   "id": "a3519618",
   "metadata": {
    "execution": {
     "iopub.execute_input": "2023-10-01T13:52:07.217570Z",
     "iopub.status.busy": "2023-10-01T13:52:07.216573Z",
     "iopub.status.idle": "2023-10-01T13:52:07.284470Z",
     "shell.execute_reply": "2023-10-01T13:52:07.283306Z"
    },
    "papermill": {
     "duration": 0.082387,
     "end_time": "2023-10-01T13:52:07.287035",
     "exception": false,
     "start_time": "2023-10-01T13:52:07.204648",
     "status": "completed"
    },
    "tags": []
   },
   "outputs": [],
   "source": [
    "metrics = tfrs.metrics.FactorizedTopK(\n",
    "  candidates=requirements.map(lambda x: x[\"Vacancy_name\"]).batch(2500).map(vacancy_model)\n",
    ")\n",
    "\n",
    "task = tfrs.tasks.Retrieval(\n",
    "  metrics=metrics\n",
    ")"
   ]
  },
  {
   "cell_type": "markdown",
   "id": "240fa932",
   "metadata": {
    "papermill": {
     "duration": 0.010974,
     "end_time": "2023-10-01T13:52:07.308912",
     "exception": false,
     "start_time": "2023-10-01T13:52:07.297938",
     "status": "completed"
    },
    "tags": []
   },
   "source": [
    "Then, we develop the Two Towers model. Here I used the <b>MovieLens model</b> shared by Google, that also uses the <b>Two Towers architecture</b>. Note that as we have different shapes for the output of the <b>candidates model</b> (44, 768) and <b>the vacancy model</b> (768,), I applied <b>reduce_sum, axis=1</b> to calculate loss."
   ]
  },
  {
   "cell_type": "markdown",
   "id": "9ac2f05d",
   "metadata": {
    "papermill": {
     "duration": 0.010376,
     "end_time": "2023-10-01T13:52:07.330275",
     "exception": false,
     "start_time": "2023-10-01T13:52:07.319899",
     "status": "completed"
    },
    "tags": []
   },
   "source": [
    "## Two Towers Model"
   ]
  },
  {
   "cell_type": "markdown",
   "id": "6afce968",
   "metadata": {
    "papermill": {
     "duration": 0.010445,
     "end_time": "2023-10-01T13:52:07.351449",
     "exception": false,
     "start_time": "2023-10-01T13:52:07.341004",
     "status": "completed"
    },
    "tags": []
   },
   "source": [
    "<div align='center'>\n",
    "   <img src=\"https://miro.medium.com/v2/resize:fit:640/format:webp/1*vTud4nMtvvqvmV5VigX3KQ.png\">\n",
    "    </p>\n",
    "   The two-tower model architecture for the candidate generation\n",
    "model and the behavior policy model. This architecture models the\n",
    "users and items with two separate towers and can be optimized to\n",
    "be very computationally efficient.\n",
    "Source: https://dl.acm.org/doi/abs/10.1145/3366423.3380130\n",
    "</div>"
   ]
  },
  {
   "cell_type": "code",
   "execution_count": 18,
   "id": "37d854cb",
   "metadata": {
    "execution": {
     "iopub.execute_input": "2023-10-01T13:52:07.374710Z",
     "iopub.status.busy": "2023-10-01T13:52:07.374275Z",
     "iopub.status.idle": "2023-10-01T13:52:07.386295Z",
     "shell.execute_reply": "2023-10-01T13:52:07.385623Z"
    },
    "papermill": {
     "duration": 0.025924,
     "end_time": "2023-10-01T13:52:07.388102",
     "exception": false,
     "start_time": "2023-10-01T13:52:07.362178",
     "status": "completed"
    },
    "tags": []
   },
   "outputs": [],
   "source": [
    "class MovielensModel(tfrs.Model):\n",
    "\n",
    "  def __init__(self, user_model, movie_model):\n",
    "    super().__init__()\n",
    "    self.movie_model: tf.keras.Model = movie_model\n",
    "    self.user_model: tf.keras.Model = user_model\n",
    "    self.task: tf.keras.layers.Layer = task\n",
    "\n",
    "  def compute_loss(self, features: Dict[Text, tf.Tensor], training=False) -> tf.Tensor:\n",
    "    # We pick out the user features and pass them into the user model.\n",
    "    user_embeddings = self.user_model(features[\"requisitos\"])\n",
    "    # And pick out the movie features and pass them into the movie model,\n",
    "    # getting embeddings back.\n",
    "    positive_movie_embeddings = self.movie_model(features[\"Vacancy_name\"])\n",
    "\n",
    "    # The task computes the loss and the metrics.\n",
    "    return self.task(tf.reduce_sum(user_embeddings,axis=1), positive_movie_embeddings)\n",
    "\n",
    "class NoBaseClassMovielensModel(tf.keras.Model):\n",
    "\n",
    "  def __init__(self, user_model, movie_model):\n",
    "    super().__init__()\n",
    "    self.movie_model: tf.keras.Model = movie_model\n",
    "    self.user_model: tf.keras.Model = user_model\n",
    "    self.task: tf.keras.layers.Layer = task\n",
    "\n",
    "  def train_step(self, features: Dict[Text, tf.Tensor]) -> tf.Tensor:\n",
    "\n",
    "    # Set up a gradient tape to record gradients.\n",
    "    with tf.GradientTape() as tape:\n",
    "\n",
    "      # Loss computation.\n",
    "      user_embeddings = self.user_model(features[\"requisitos\"])\n",
    "      positive_movie_embeddings = self.movie_model(features[\"Vacancy_name\"])\n",
    "      loss = self.task(user_embeddings, positive_movie_embeddings)\n",
    "\n",
    "      # Handle regularization losses as well.\n",
    "      regularization_loss = sum(self.losses)\n",
    "\n",
    "      total_loss = loss + regularization_loss\n",
    "\n",
    "    gradients = tape.gradient(total_loss, self.trainable_variables)\n",
    "    self.optimizer.apply_gradients(zip(gradients, self.trainable_variables))\n",
    "\n",
    "    metrics = {metric.name: metric.result() for metric in self.metrics}\n",
    "    metrics[\"loss\"] = loss\n",
    "    metrics[\"regularization_loss\"] = regularization_loss\n",
    "    metrics[\"total_loss\"] = total_loss\n",
    "\n",
    "    return metrics\n",
    "\n",
    "  def test_step(self, features: Dict[Text, tf.Tensor]) -> tf.Tensor:\n",
    "\n",
    "    # Loss computation.\n",
    "    user_embeddings = self.user_model(features[\"requisitos\"])\n",
    "    positive_movie_embeddings = self.movie_model(features[\"Vacancy_name\"])\n",
    "    loss = self.task(user_embeddings, positive_movie_embeddings)\n",
    "\n",
    "    # Handle regularization losses as well.\n",
    "    regularization_loss = sum(self.losses)\n",
    "\n",
    "    total_loss = loss + regularization_loss\n",
    "\n",
    "    metrics = {metric.name: metric.result() for metric in self.metrics}\n",
    "    metrics[\"loss\"] = loss\n",
    "    metrics[\"regularization_loss\"] = regularization_loss\n",
    "    metrics[\"total_loss\"] = total_loss\n",
    "\n",
    "    return metrics"
   ]
  },
  {
   "cell_type": "markdown",
   "id": "914a132e",
   "metadata": {
    "papermill": {
     "duration": 0.010574,
     "end_time": "2023-10-01T13:52:07.409576",
     "exception": false,
     "start_time": "2023-10-01T13:52:07.399002",
     "status": "completed"
    },
    "tags": []
   },
   "source": [
    "We instatiate the model, compile it, define the optimizer (Adagrad), the learning rate and prepare cached data for training and evaluation."
   ]
  },
  {
   "cell_type": "code",
   "execution_count": 19,
   "id": "78b484f2",
   "metadata": {
    "execution": {
     "iopub.execute_input": "2023-10-01T13:52:07.433034Z",
     "iopub.status.busy": "2023-10-01T13:52:07.432654Z",
     "iopub.status.idle": "2023-10-01T13:52:07.458483Z",
     "shell.execute_reply": "2023-10-01T13:52:07.457655Z"
    },
    "papermill": {
     "duration": 0.04028,
     "end_time": "2023-10-01T13:52:07.460741",
     "exception": false,
     "start_time": "2023-10-01T13:52:07.420461",
     "status": "completed"
    },
    "tags": []
   },
   "outputs": [],
   "source": [
    "model = MovielensModel(requirements_model, vacancy_model)\n",
    "model.compile(optimizer=tf.keras.optimizers.Adagrad(learning_rate=0.1))\n",
    "cached_train = train.shuffle(int(df.shape[0])).batch(int(df.shape[0]*0.9)).cache()\n",
    "cached_test = test.shuffle(int(df.shape[0])).batch(int(df.shape[0]*0.1)).cache()"
   ]
  },
  {
   "cell_type": "markdown",
   "id": "914dbc94",
   "metadata": {
    "papermill": {
     "duration": 0.01069,
     "end_time": "2023-10-01T13:52:07.482504",
     "exception": false,
     "start_time": "2023-10-01T13:52:07.471814",
     "status": "completed"
    },
    "tags": []
   },
   "source": [
    "We have some callbacks, as we may want to use the saved model as an index in SCANN, that can be deployed in Google Cloud, like Cloud Run, Vertex AI and Matching Engine.\n",
    "\n",
    "Here I have some considerations:\n",
    "\n",
    "- if it's a Proof of Concept or small project, deploy in <b>Cloud Run</b> with Flask.\n",
    "- if you have more demand and much more data/users, you can deploy in <b>Vertex AI</b>. It's more expensive than Cloud Run but handles a big demand effectively.\n",
    "- if you are expecting millions/billions of users, deploy it in <b>Matching Engine</b>. That will cost you 1,000-2,000 USD a month but the latency is less than 200 ms for each call.\n",
    "\n",
    "We will also train the model and, on each epoch, it will return the accuracy of the Factorized TOP 1, 5, 10, 50 and 100 first vacancies returned, along with the regularization loss and total loss. A Factorized Top K =1 bigger than 0.55 will return relevant results.\n",
    "\n",
    "<b>NOTE</b> that the quality of the results will depend upon the <b>quality of the dataset and the quantity of vacancies of a given type available</b>. As the model returns TOP 10 results (this can be changed), if you only have only two vacancies for mechanical engineer, the results may seem messed.\n",
    "\n",
    "In this case, you must add a step after the retrieval process: <b>filtering</b>. You can filter results in a way they only show relevant results according to the candidate query you are submitting."
   ]
  },
  {
   "cell_type": "markdown",
   "id": "1e9dbbcd",
   "metadata": {
    "papermill": {
     "duration": 0.010455,
     "end_time": "2023-10-01T13:52:07.503543",
     "exception": false,
     "start_time": "2023-10-01T13:52:07.493088",
     "status": "completed"
    },
    "tags": []
   },
   "source": [
    "## Training"
   ]
  },
  {
   "cell_type": "code",
   "execution_count": 20,
   "id": "df7d8dfd",
   "metadata": {
    "execution": {
     "iopub.execute_input": "2023-10-01T13:52:07.526816Z",
     "iopub.status.busy": "2023-10-01T13:52:07.526459Z",
     "iopub.status.idle": "2023-10-01T13:54:08.899100Z",
     "shell.execute_reply": "2023-10-01T13:54:08.898277Z"
    },
    "papermill": {
     "duration": 121.386761,
     "end_time": "2023-10-01T13:54:08.901061",
     "exception": false,
     "start_time": "2023-10-01T13:52:07.514300",
     "status": "completed"
    },
    "tags": []
   },
   "outputs": [
    {
     "name": "stdout",
     "output_type": "stream",
     "text": [
      "Epoch 1/70\n",
      "1/1 [==============================] - 4s 4s/step - factorized_top_k/top_1_categorical_accuracy: 7.4074e-04 - factorized_top_k/top_5_categorical_accuracy: 0.0033 - factorized_top_k/top_10_categorical_accuracy: 0.0056 - factorized_top_k/top_50_categorical_accuracy: 0.0185 - factorized_top_k/top_100_categorical_accuracy: 0.0367 - loss: 21451.7500 - regularization_loss: 0.0000e+00 - total_loss: 21451.7500\n",
      "Epoch 2/70\n",
      "\n",
      "Epoch 2: saving model to /kaggle/working/output/model/\n",
      "1/1 [==============================] - 1s 1s/step - factorized_top_k/top_1_categorical_accuracy: 0.1259 - factorized_top_k/top_5_categorical_accuracy: 0.3152 - factorized_top_k/top_10_categorical_accuracy: 0.4111 - factorized_top_k/top_50_categorical_accuracy: 0.6000 - factorized_top_k/top_100_categorical_accuracy: 0.6204 - loss: 19283.4629 - regularization_loss: 0.0000e+00 - total_loss: 19283.4629\n",
      "Epoch 3/70\n",
      "1/1 [==============================] - 1s 1s/step - factorized_top_k/top_1_categorical_accuracy: 0.0000e+00 - factorized_top_k/top_5_categorical_accuracy: 0.0000e+00 - factorized_top_k/top_10_categorical_accuracy: 0.0011 - factorized_top_k/top_50_categorical_accuracy: 0.0011 - factorized_top_k/top_100_categorical_accuracy: 0.0011 - loss: 468870.4688 - regularization_loss: 0.0000e+00 - total_loss: 468870.4688\n",
      "Epoch 4/70\n",
      "\n",
      "Epoch 4: saving model to /kaggle/working/output/model/\n",
      "1/1 [==============================] - 1s 1s/step - factorized_top_k/top_1_categorical_accuracy: 3.7037e-04 - factorized_top_k/top_5_categorical_accuracy: 0.0011 - factorized_top_k/top_10_categorical_accuracy: 0.0041 - factorized_top_k/top_50_categorical_accuracy: 0.0104 - factorized_top_k/top_100_categorical_accuracy: 0.0200 - loss: 155838.5156 - regularization_loss: 0.0000e+00 - total_loss: 155838.5156\n",
      "Epoch 5/70\n",
      "1/1 [==============================] - 1s 1s/step - factorized_top_k/top_1_categorical_accuracy: 0.0437 - factorized_top_k/top_5_categorical_accuracy: 0.1437 - factorized_top_k/top_10_categorical_accuracy: 0.1770 - factorized_top_k/top_50_categorical_accuracy: 0.2693 - factorized_top_k/top_100_categorical_accuracy: 0.3633 - loss: 100464.0000 - regularization_loss: 0.0000e+00 - total_loss: 100464.0000\n",
      "Epoch 6/70\n",
      "\n",
      "Epoch 6: saving model to /kaggle/working/output/model/\n",
      "1/1 [==============================] - 2s 2s/step - factorized_top_k/top_1_categorical_accuracy: 0.1941 - factorized_top_k/top_5_categorical_accuracy: 0.4370 - factorized_top_k/top_10_categorical_accuracy: 0.5148 - factorized_top_k/top_50_categorical_accuracy: 0.7959 - factorized_top_k/top_100_categorical_accuracy: 0.8356 - loss: 55896.0391 - regularization_loss: 0.0000e+00 - total_loss: 55896.0391\n",
      "Epoch 7/70\n",
      "1/1 [==============================] - 1s 1s/step - factorized_top_k/top_1_categorical_accuracy: 0.3911 - factorized_top_k/top_5_categorical_accuracy: 0.6826 - factorized_top_k/top_10_categorical_accuracy: 0.7230 - factorized_top_k/top_50_categorical_accuracy: 0.7785 - factorized_top_k/top_100_categorical_accuracy: 0.8019 - loss: 50818.4453 - regularization_loss: 0.0000e+00 - total_loss: 50818.4453\n",
      "Epoch 8/70\n",
      "\n",
      "Epoch 8: saving model to /kaggle/working/output/model/\n",
      "1/1 [==============================] - 2s 2s/step - factorized_top_k/top_1_categorical_accuracy: 0.5022 - factorized_top_k/top_5_categorical_accuracy: 0.8274 - factorized_top_k/top_10_categorical_accuracy: 0.8500 - factorized_top_k/top_50_categorical_accuracy: 0.8948 - factorized_top_k/top_100_categorical_accuracy: 0.9119 - loss: 28699.3457 - regularization_loss: 0.0000e+00 - total_loss: 28699.3457\n",
      "Epoch 9/70\n",
      "1/1 [==============================] - 1s 1s/step - factorized_top_k/top_1_categorical_accuracy: 0.5578 - factorized_top_k/top_5_categorical_accuracy: 0.8841 - factorized_top_k/top_10_categorical_accuracy: 0.9119 - factorized_top_k/top_50_categorical_accuracy: 0.9411 - factorized_top_k/top_100_categorical_accuracy: 0.9496 - loss: 14277.7842 - regularization_loss: 0.0000e+00 - total_loss: 14277.7842\n",
      "Epoch 10/70\n",
      "\n",
      "Epoch 10: saving model to /kaggle/working/output/model/\n",
      "1/1 [==============================] - 1s 1s/step - factorized_top_k/top_1_categorical_accuracy: 0.5656 - factorized_top_k/top_5_categorical_accuracy: 0.9115 - factorized_top_k/top_10_categorical_accuracy: 0.9459 - factorized_top_k/top_50_categorical_accuracy: 0.9733 - factorized_top_k/top_100_categorical_accuracy: 0.9793 - loss: 8971.2666 - regularization_loss: 0.0000e+00 - total_loss: 8971.2666\n",
      "Epoch 11/70\n",
      "1/1 [==============================] - 1s 1s/step - factorized_top_k/top_1_categorical_accuracy: 0.5704 - factorized_top_k/top_5_categorical_accuracy: 0.9281 - factorized_top_k/top_10_categorical_accuracy: 0.9607 - factorized_top_k/top_50_categorical_accuracy: 0.9770 - factorized_top_k/top_100_categorical_accuracy: 0.9785 - loss: 7494.4941 - regularization_loss: 0.0000e+00 - total_loss: 7494.4941\n",
      "Epoch 12/70\n",
      "\n",
      "Epoch 12: saving model to /kaggle/working/output/model/\n",
      "1/1 [==============================] - 1s 1s/step - factorized_top_k/top_1_categorical_accuracy: 0.5844 - factorized_top_k/top_5_categorical_accuracy: 0.9337 - factorized_top_k/top_10_categorical_accuracy: 0.9644 - factorized_top_k/top_50_categorical_accuracy: 0.9837 - factorized_top_k/top_100_categorical_accuracy: 0.9885 - loss: 5603.4746 - regularization_loss: 0.0000e+00 - total_loss: 5603.4746\n",
      "Epoch 13/70\n",
      "1/1 [==============================] - 1s 1s/step - factorized_top_k/top_1_categorical_accuracy: 0.6089 - factorized_top_k/top_5_categorical_accuracy: 0.9452 - factorized_top_k/top_10_categorical_accuracy: 0.9656 - factorized_top_k/top_50_categorical_accuracy: 0.9874 - factorized_top_k/top_100_categorical_accuracy: 0.9896 - loss: 4944.8071 - regularization_loss: 0.0000e+00 - total_loss: 4944.8071\n",
      "Epoch 14/70\n",
      "\n",
      "Epoch 14: saving model to /kaggle/working/output/model/\n",
      "1/1 [==============================] - 1s 1s/step - factorized_top_k/top_1_categorical_accuracy: 0.6100 - factorized_top_k/top_5_categorical_accuracy: 0.9530 - factorized_top_k/top_10_categorical_accuracy: 0.9733 - factorized_top_k/top_50_categorical_accuracy: 0.9904 - factorized_top_k/top_100_categorical_accuracy: 0.9930 - loss: 4806.5854 - regularization_loss: 0.0000e+00 - total_loss: 4806.5854\n",
      "Epoch 15/70\n",
      "1/1 [==============================] - 1s 1s/step - factorized_top_k/top_1_categorical_accuracy: 0.6059 - factorized_top_k/top_5_categorical_accuracy: 0.9537 - factorized_top_k/top_10_categorical_accuracy: 0.9737 - factorized_top_k/top_50_categorical_accuracy: 0.9893 - factorized_top_k/top_100_categorical_accuracy: 0.9915 - loss: 4307.9453 - regularization_loss: 0.0000e+00 - total_loss: 4307.9453\n",
      "Epoch 16/70\n",
      "\n",
      "Epoch 16: saving model to /kaggle/working/output/model/\n",
      "1/1 [==============================] - 2s 2s/step - factorized_top_k/top_1_categorical_accuracy: 0.6244 - factorized_top_k/top_5_categorical_accuracy: 0.9567 - factorized_top_k/top_10_categorical_accuracy: 0.9778 - factorized_top_k/top_50_categorical_accuracy: 0.9900 - factorized_top_k/top_100_categorical_accuracy: 0.9919 - loss: 3914.7197 - regularization_loss: 0.0000e+00 - total_loss: 3914.7197\n",
      "Epoch 17/70\n",
      "1/1 [==============================] - 1s 1s/step - factorized_top_k/top_1_categorical_accuracy: 0.6196 - factorized_top_k/top_5_categorical_accuracy: 0.9596 - factorized_top_k/top_10_categorical_accuracy: 0.9781 - factorized_top_k/top_50_categorical_accuracy: 0.9941 - factorized_top_k/top_100_categorical_accuracy: 0.9956 - loss: 3566.9380 - regularization_loss: 0.0000e+00 - total_loss: 3566.9380\n",
      "Epoch 18/70\n",
      "\n",
      "Epoch 18: saving model to /kaggle/working/output/model/\n",
      "1/1 [==============================] - 1s 1s/step - factorized_top_k/top_1_categorical_accuracy: 0.6315 - factorized_top_k/top_5_categorical_accuracy: 0.9481 - factorized_top_k/top_10_categorical_accuracy: 0.9752 - factorized_top_k/top_50_categorical_accuracy: 0.9907 - factorized_top_k/top_100_categorical_accuracy: 0.9926 - loss: 3666.1899 - regularization_loss: 0.0000e+00 - total_loss: 3666.1899\n",
      "Epoch 19/70\n",
      "1/1 [==============================] - 1s 1s/step - factorized_top_k/top_1_categorical_accuracy: 0.6878 - factorized_top_k/top_5_categorical_accuracy: 0.9419 - factorized_top_k/top_10_categorical_accuracy: 0.9652 - factorized_top_k/top_50_categorical_accuracy: 0.9956 - factorized_top_k/top_100_categorical_accuracy: 0.9967 - loss: 2866.5378 - regularization_loss: 0.0000e+00 - total_loss: 2866.5378\n",
      "Epoch 20/70\n",
      "\n",
      "Epoch 20: saving model to /kaggle/working/output/model/\n",
      "1/1 [==============================] - 2s 2s/step - factorized_top_k/top_1_categorical_accuracy: 0.6285 - factorized_top_k/top_5_categorical_accuracy: 0.9678 - factorized_top_k/top_10_categorical_accuracy: 0.9811 - factorized_top_k/top_50_categorical_accuracy: 0.9959 - factorized_top_k/top_100_categorical_accuracy: 0.9967 - loss: 2942.2356 - regularization_loss: 0.0000e+00 - total_loss: 2942.2356\n",
      "Epoch 21/70\n",
      "1/1 [==============================] - 1s 1s/step - factorized_top_k/top_1_categorical_accuracy: 0.6241 - factorized_top_k/top_5_categorical_accuracy: 0.9619 - factorized_top_k/top_10_categorical_accuracy: 0.9826 - factorized_top_k/top_50_categorical_accuracy: 0.9967 - factorized_top_k/top_100_categorical_accuracy: 0.9970 - loss: 2768.3755 - regularization_loss: 0.0000e+00 - total_loss: 2768.3755\n",
      "Epoch 22/70\n",
      "\n",
      "Epoch 22: saving model to /kaggle/working/output/model/\n",
      "1/1 [==============================] - 1s 1s/step - factorized_top_k/top_1_categorical_accuracy: 0.6344 - factorized_top_k/top_5_categorical_accuracy: 0.9626 - factorized_top_k/top_10_categorical_accuracy: 0.9815 - factorized_top_k/top_50_categorical_accuracy: 0.9978 - factorized_top_k/top_100_categorical_accuracy: 0.9985 - loss: 2466.5344 - regularization_loss: 0.0000e+00 - total_loss: 2466.5344\n",
      "Epoch 23/70\n",
      "1/1 [==============================] - 1s 1s/step - factorized_top_k/top_1_categorical_accuracy: 0.7259 - factorized_top_k/top_5_categorical_accuracy: 0.9370 - factorized_top_k/top_10_categorical_accuracy: 0.9585 - factorized_top_k/top_50_categorical_accuracy: 0.9967 - factorized_top_k/top_100_categorical_accuracy: 0.9978 - loss: 2846.7800 - regularization_loss: 0.0000e+00 - total_loss: 2846.7800\n",
      "Epoch 24/70\n",
      "\n",
      "Epoch 24: saving model to /kaggle/working/output/model/\n",
      "1/1 [==============================] - 1s 1s/step - factorized_top_k/top_1_categorical_accuracy: 0.6315 - factorized_top_k/top_5_categorical_accuracy: 0.9659 - factorized_top_k/top_10_categorical_accuracy: 0.9800 - factorized_top_k/top_50_categorical_accuracy: 0.9967 - factorized_top_k/top_100_categorical_accuracy: 0.9967 - loss: 2282.2551 - regularization_loss: 0.0000e+00 - total_loss: 2282.2551\n",
      "Epoch 25/70\n",
      "1/1 [==============================] - 1s 1s/step - factorized_top_k/top_1_categorical_accuracy: 0.6189 - factorized_top_k/top_5_categorical_accuracy: 0.9648 - factorized_top_k/top_10_categorical_accuracy: 0.9819 - factorized_top_k/top_50_categorical_accuracy: 0.9970 - factorized_top_k/top_100_categorical_accuracy: 0.9974 - loss: 2198.5215 - regularization_loss: 0.0000e+00 - total_loss: 2198.5215\n",
      "Epoch 26/70\n",
      "\n",
      "Epoch 26: saving model to /kaggle/working/output/model/\n",
      "1/1 [==============================] - 1s 1s/step - factorized_top_k/top_1_categorical_accuracy: 0.7581 - factorized_top_k/top_5_categorical_accuracy: 0.9526 - factorized_top_k/top_10_categorical_accuracy: 0.9689 - factorized_top_k/top_50_categorical_accuracy: 0.9963 - factorized_top_k/top_100_categorical_accuracy: 0.9978 - loss: 2124.2510 - regularization_loss: 0.0000e+00 - total_loss: 2124.2510\n",
      "Epoch 27/70\n",
      "1/1 [==============================] - 1s 1s/step - factorized_top_k/top_1_categorical_accuracy: 0.6463 - factorized_top_k/top_5_categorical_accuracy: 0.9656 - factorized_top_k/top_10_categorical_accuracy: 0.9881 - factorized_top_k/top_50_categorical_accuracy: 0.9989 - factorized_top_k/top_100_categorical_accuracy: 1.0000 - loss: 2213.2690 - regularization_loss: 0.0000e+00 - total_loss: 2213.2690\n",
      "Epoch 28/70\n",
      "\n",
      "Epoch 28: saving model to /kaggle/working/output/model/\n",
      "1/1 [==============================] - 1s 1s/step - factorized_top_k/top_1_categorical_accuracy: 0.6459 - factorized_top_k/top_5_categorical_accuracy: 0.9600 - factorized_top_k/top_10_categorical_accuracy: 0.9785 - factorized_top_k/top_50_categorical_accuracy: 0.9981 - factorized_top_k/top_100_categorical_accuracy: 0.9985 - loss: 2043.9093 - regularization_loss: 0.0000e+00 - total_loss: 2043.9093\n",
      "Epoch 29/70\n",
      "1/1 [==============================] - 1s 1s/step - factorized_top_k/top_1_categorical_accuracy: 0.6289 - factorized_top_k/top_5_categorical_accuracy: 0.9644 - factorized_top_k/top_10_categorical_accuracy: 0.9807 - factorized_top_k/top_50_categorical_accuracy: 0.9978 - factorized_top_k/top_100_categorical_accuracy: 0.9981 - loss: 2052.4783 - regularization_loss: 0.0000e+00 - total_loss: 2052.4783\n",
      "Epoch 30/70\n",
      "\n",
      "Epoch 30: saving model to /kaggle/working/output/model/\n",
      "1/1 [==============================] - 1s 1s/step - factorized_top_k/top_1_categorical_accuracy: 0.6244 - factorized_top_k/top_5_categorical_accuracy: 0.9704 - factorized_top_k/top_10_categorical_accuracy: 0.9878 - factorized_top_k/top_50_categorical_accuracy: 0.9970 - factorized_top_k/top_100_categorical_accuracy: 0.9978 - loss: 2153.6235 - regularization_loss: 0.0000e+00 - total_loss: 2153.6235\n",
      "Epoch 31/70\n",
      "1/1 [==============================] - 1s 1s/step - factorized_top_k/top_1_categorical_accuracy: 0.6244 - factorized_top_k/top_5_categorical_accuracy: 0.9619 - factorized_top_k/top_10_categorical_accuracy: 0.9830 - factorized_top_k/top_50_categorical_accuracy: 0.9959 - factorized_top_k/top_100_categorical_accuracy: 0.9974 - loss: 1994.7885 - regularization_loss: 0.0000e+00 - total_loss: 1994.7885\n",
      "Epoch 32/70\n",
      "\n",
      "Epoch 32: saving model to /kaggle/working/output/model/\n",
      "1/1 [==============================] - 1s 1s/step - factorized_top_k/top_1_categorical_accuracy: 0.6300 - factorized_top_k/top_5_categorical_accuracy: 0.9615 - factorized_top_k/top_10_categorical_accuracy: 0.9804 - factorized_top_k/top_50_categorical_accuracy: 0.9963 - factorized_top_k/top_100_categorical_accuracy: 0.9978 - loss: 1976.9515 - regularization_loss: 0.0000e+00 - total_loss: 1976.9515\n",
      "Epoch 33/70\n",
      "1/1 [==============================] - 1s 1s/step - factorized_top_k/top_1_categorical_accuracy: 0.6344 - factorized_top_k/top_5_categorical_accuracy: 0.9641 - factorized_top_k/top_10_categorical_accuracy: 0.9800 - factorized_top_k/top_50_categorical_accuracy: 0.9959 - factorized_top_k/top_100_categorical_accuracy: 0.9970 - loss: 2059.0151 - regularization_loss: 0.0000e+00 - total_loss: 2059.0151\n",
      "Epoch 34/70\n",
      "\n",
      "Epoch 34: saving model to /kaggle/working/output/model/\n",
      "1/1 [==============================] - 2s 2s/step - factorized_top_k/top_1_categorical_accuracy: 0.7348 - factorized_top_k/top_5_categorical_accuracy: 0.9556 - factorized_top_k/top_10_categorical_accuracy: 0.9752 - factorized_top_k/top_50_categorical_accuracy: 0.9978 - factorized_top_k/top_100_categorical_accuracy: 0.9989 - loss: 1716.5198 - regularization_loss: 0.0000e+00 - total_loss: 1716.5198\n",
      "Epoch 35/70\n",
      "1/1 [==============================] - 1s 1s/step - factorized_top_k/top_1_categorical_accuracy: 0.6322 - factorized_top_k/top_5_categorical_accuracy: 0.9674 - factorized_top_k/top_10_categorical_accuracy: 0.9848 - factorized_top_k/top_50_categorical_accuracy: 0.9985 - factorized_top_k/top_100_categorical_accuracy: 0.9985 - loss: 1821.2059 - regularization_loss: 0.0000e+00 - total_loss: 1821.2059\n",
      "Epoch 36/70\n",
      "\n",
      "Epoch 36: saving model to /kaggle/working/output/model/\n",
      "1/1 [==============================] - 1s 1s/step - factorized_top_k/top_1_categorical_accuracy: 0.7293 - factorized_top_k/top_5_categorical_accuracy: 0.9493 - factorized_top_k/top_10_categorical_accuracy: 0.9681 - factorized_top_k/top_50_categorical_accuracy: 0.9956 - factorized_top_k/top_100_categorical_accuracy: 0.9967 - loss: 1712.6274 - regularization_loss: 0.0000e+00 - total_loss: 1712.6274\n",
      "Epoch 37/70\n",
      "1/1 [==============================] - 1s 1s/step - factorized_top_k/top_1_categorical_accuracy: 0.7770 - factorized_top_k/top_5_categorical_accuracy: 0.9459 - factorized_top_k/top_10_categorical_accuracy: 0.9726 - factorized_top_k/top_50_categorical_accuracy: 0.9985 - factorized_top_k/top_100_categorical_accuracy: 0.9993 - loss: 1717.5027 - regularization_loss: 0.0000e+00 - total_loss: 1717.5027\n",
      "Epoch 38/70\n",
      "\n",
      "Epoch 38: saving model to /kaggle/working/output/model/\n",
      "1/1 [==============================] - 2s 2s/step - factorized_top_k/top_1_categorical_accuracy: 0.6167 - factorized_top_k/top_5_categorical_accuracy: 0.9611 - factorized_top_k/top_10_categorical_accuracy: 0.9863 - factorized_top_k/top_50_categorical_accuracy: 0.9978 - factorized_top_k/top_100_categorical_accuracy: 0.9981 - loss: 1735.4237 - regularization_loss: 0.0000e+00 - total_loss: 1735.4237\n",
      "Epoch 39/70\n",
      "1/1 [==============================] - 1s 1s/step - factorized_top_k/top_1_categorical_accuracy: 0.6274 - factorized_top_k/top_5_categorical_accuracy: 0.9574 - factorized_top_k/top_10_categorical_accuracy: 0.9844 - factorized_top_k/top_50_categorical_accuracy: 0.9978 - factorized_top_k/top_100_categorical_accuracy: 0.9989 - loss: 1547.4631 - regularization_loss: 0.0000e+00 - total_loss: 1547.4631\n",
      "Epoch 40/70\n",
      "\n",
      "Epoch 40: saving model to /kaggle/working/output/model/\n",
      "1/1 [==============================] - 1s 1s/step - factorized_top_k/top_1_categorical_accuracy: 0.6270 - factorized_top_k/top_5_categorical_accuracy: 0.9637 - factorized_top_k/top_10_categorical_accuracy: 0.9811 - factorized_top_k/top_50_categorical_accuracy: 0.9959 - factorized_top_k/top_100_categorical_accuracy: 0.9978 - loss: 1635.0815 - regularization_loss: 0.0000e+00 - total_loss: 1635.0815\n",
      "Epoch 41/70\n",
      "1/1 [==============================] - 1s 1s/step - factorized_top_k/top_1_categorical_accuracy: 0.7656 - factorized_top_k/top_5_categorical_accuracy: 0.9433 - factorized_top_k/top_10_categorical_accuracy: 0.9663 - factorized_top_k/top_50_categorical_accuracy: 0.9978 - factorized_top_k/top_100_categorical_accuracy: 0.9985 - loss: 1631.9637 - regularization_loss: 0.0000e+00 - total_loss: 1631.9637\n",
      "Epoch 42/70\n",
      "\n",
      "Epoch 42: saving model to /kaggle/working/output/model/\n",
      "1/1 [==============================] - 1s 1s/step - factorized_top_k/top_1_categorical_accuracy: 0.6363 - factorized_top_k/top_5_categorical_accuracy: 0.9704 - factorized_top_k/top_10_categorical_accuracy: 0.9859 - factorized_top_k/top_50_categorical_accuracy: 0.9970 - factorized_top_k/top_100_categorical_accuracy: 0.9978 - loss: 1596.6907 - regularization_loss: 0.0000e+00 - total_loss: 1596.6907\n",
      "Epoch 43/70\n",
      "1/1 [==============================] - 1s 1s/step - factorized_top_k/top_1_categorical_accuracy: 0.6185 - factorized_top_k/top_5_categorical_accuracy: 0.9581 - factorized_top_k/top_10_categorical_accuracy: 0.9815 - factorized_top_k/top_50_categorical_accuracy: 0.9963 - factorized_top_k/top_100_categorical_accuracy: 0.9989 - loss: 1641.7782 - regularization_loss: 0.0000e+00 - total_loss: 1641.7782\n",
      "Epoch 44/70\n",
      "\n",
      "Epoch 44: saving model to /kaggle/working/output/model/\n",
      "1/1 [==============================] - 1s 1s/step - factorized_top_k/top_1_categorical_accuracy: 0.6263 - factorized_top_k/top_5_categorical_accuracy: 0.9641 - factorized_top_k/top_10_categorical_accuracy: 0.9870 - factorized_top_k/top_50_categorical_accuracy: 0.9978 - factorized_top_k/top_100_categorical_accuracy: 0.9985 - loss: 1529.8679 - regularization_loss: 0.0000e+00 - total_loss: 1529.8679\n",
      "Epoch 45/70\n",
      "1/1 [==============================] - 1s 1s/step - factorized_top_k/top_1_categorical_accuracy: 0.6341 - factorized_top_k/top_5_categorical_accuracy: 0.9707 - factorized_top_k/top_10_categorical_accuracy: 0.9852 - factorized_top_k/top_50_categorical_accuracy: 0.9985 - factorized_top_k/top_100_categorical_accuracy: 0.9989 - loss: 1592.0007 - regularization_loss: 0.0000e+00 - total_loss: 1592.0007\n",
      "Epoch 46/70\n",
      "\n",
      "Epoch 46: saving model to /kaggle/working/output/model/\n",
      "1/1 [==============================] - 2s 2s/step - factorized_top_k/top_1_categorical_accuracy: 0.6278 - factorized_top_k/top_5_categorical_accuracy: 0.9637 - factorized_top_k/top_10_categorical_accuracy: 0.9819 - factorized_top_k/top_50_categorical_accuracy: 0.9985 - factorized_top_k/top_100_categorical_accuracy: 0.9989 - loss: 1546.8212 - regularization_loss: 0.0000e+00 - total_loss: 1546.8212\n",
      "Epoch 47/70\n",
      "1/1 [==============================] - 1s 1s/step - factorized_top_k/top_1_categorical_accuracy: 0.6270 - factorized_top_k/top_5_categorical_accuracy: 0.9637 - factorized_top_k/top_10_categorical_accuracy: 0.9844 - factorized_top_k/top_50_categorical_accuracy: 0.9981 - factorized_top_k/top_100_categorical_accuracy: 0.9985 - loss: 1576.5931 - regularization_loss: 0.0000e+00 - total_loss: 1576.5931\n",
      "Epoch 48/70\n",
      "\n",
      "Epoch 48: saving model to /kaggle/working/output/model/\n",
      "1/1 [==============================] - 1s 1s/step - factorized_top_k/top_1_categorical_accuracy: 0.6348 - factorized_top_k/top_5_categorical_accuracy: 0.9593 - factorized_top_k/top_10_categorical_accuracy: 0.9878 - factorized_top_k/top_50_categorical_accuracy: 0.9989 - factorized_top_k/top_100_categorical_accuracy: 0.9993 - loss: 1518.6880 - regularization_loss: 0.0000e+00 - total_loss: 1518.6880\n",
      "Epoch 49/70\n",
      "1/1 [==============================] - 1s 1s/step - factorized_top_k/top_1_categorical_accuracy: 0.6200 - factorized_top_k/top_5_categorical_accuracy: 0.9674 - factorized_top_k/top_10_categorical_accuracy: 0.9863 - factorized_top_k/top_50_categorical_accuracy: 0.9981 - factorized_top_k/top_100_categorical_accuracy: 0.9985 - loss: 1457.0056 - regularization_loss: 0.0000e+00 - total_loss: 1457.0056\n",
      "Epoch 50/70\n",
      "\n",
      "Epoch 50: saving model to /kaggle/working/output/model/\n",
      "1/1 [==============================] - 1s 1s/step - factorized_top_k/top_1_categorical_accuracy: 0.6356 - factorized_top_k/top_5_categorical_accuracy: 0.9715 - factorized_top_k/top_10_categorical_accuracy: 0.9870 - factorized_top_k/top_50_categorical_accuracy: 0.9989 - factorized_top_k/top_100_categorical_accuracy: 0.9989 - loss: 1484.8523 - regularization_loss: 0.0000e+00 - total_loss: 1484.8523\n",
      "Epoch 51/70\n",
      "1/1 [==============================] - 1s 1s/step - factorized_top_k/top_1_categorical_accuracy: 0.6374 - factorized_top_k/top_5_categorical_accuracy: 0.9630 - factorized_top_k/top_10_categorical_accuracy: 0.9859 - factorized_top_k/top_50_categorical_accuracy: 0.9989 - factorized_top_k/top_100_categorical_accuracy: 0.9993 - loss: 1481.5770 - regularization_loss: 0.0000e+00 - total_loss: 1481.5770\n",
      "Epoch 52/70\n",
      "\n",
      "Epoch 52: saving model to /kaggle/working/output/model/\n",
      "1/1 [==============================] - 1s 1s/step - factorized_top_k/top_1_categorical_accuracy: 0.6385 - factorized_top_k/top_5_categorical_accuracy: 0.9600 - factorized_top_k/top_10_categorical_accuracy: 0.9881 - factorized_top_k/top_50_categorical_accuracy: 0.9993 - factorized_top_k/top_100_categorical_accuracy: 0.9996 - loss: 1458.9194 - regularization_loss: 0.0000e+00 - total_loss: 1458.9194\n",
      "Epoch 53/70\n",
      "1/1 [==============================] - 1s 1s/step - factorized_top_k/top_1_categorical_accuracy: 0.6204 - factorized_top_k/top_5_categorical_accuracy: 0.9600 - factorized_top_k/top_10_categorical_accuracy: 0.9822 - factorized_top_k/top_50_categorical_accuracy: 0.9993 - factorized_top_k/top_100_categorical_accuracy: 0.9996 - loss: 1417.3633 - regularization_loss: 0.0000e+00 - total_loss: 1417.3633\n",
      "Epoch 54/70\n",
      "\n",
      "Epoch 54: saving model to /kaggle/working/output/model/\n",
      "1/1 [==============================] - 2s 2s/step - factorized_top_k/top_1_categorical_accuracy: 0.6352 - factorized_top_k/top_5_categorical_accuracy: 0.9633 - factorized_top_k/top_10_categorical_accuracy: 0.9822 - factorized_top_k/top_50_categorical_accuracy: 0.9989 - factorized_top_k/top_100_categorical_accuracy: 1.0000 - loss: 1346.4722 - regularization_loss: 0.0000e+00 - total_loss: 1346.4722\n",
      "Epoch 55/70\n",
      "1/1 [==============================] - 1s 1s/step - factorized_top_k/top_1_categorical_accuracy: 0.6370 - factorized_top_k/top_5_categorical_accuracy: 0.9652 - factorized_top_k/top_10_categorical_accuracy: 0.9837 - factorized_top_k/top_50_categorical_accuracy: 0.9989 - factorized_top_k/top_100_categorical_accuracy: 0.9989 - loss: 1417.3344 - regularization_loss: 0.0000e+00 - total_loss: 1417.3344\n",
      "Epoch 56/70\n",
      "\n",
      "Epoch 56: saving model to /kaggle/working/output/model/\n",
      "1/1 [==============================] - 1s 1s/step - factorized_top_k/top_1_categorical_accuracy: 0.7393 - factorized_top_k/top_5_categorical_accuracy: 0.9504 - factorized_top_k/top_10_categorical_accuracy: 0.9711 - factorized_top_k/top_50_categorical_accuracy: 0.9985 - factorized_top_k/top_100_categorical_accuracy: 0.9989 - loss: 1405.4187 - regularization_loss: 0.0000e+00 - total_loss: 1405.4187\n",
      "Epoch 57/70\n",
      "1/1 [==============================] - 1s 1s/step - factorized_top_k/top_1_categorical_accuracy: 0.6596 - factorized_top_k/top_5_categorical_accuracy: 0.9648 - factorized_top_k/top_10_categorical_accuracy: 0.9848 - factorized_top_k/top_50_categorical_accuracy: 0.9989 - factorized_top_k/top_100_categorical_accuracy: 0.9993 - loss: 1411.8768 - regularization_loss: 0.0000e+00 - total_loss: 1411.8768\n",
      "Epoch 58/70\n",
      "\n",
      "Epoch 58: saving model to /kaggle/working/output/model/\n",
      "1/1 [==============================] - 1s 1s/step - factorized_top_k/top_1_categorical_accuracy: 0.6219 - factorized_top_k/top_5_categorical_accuracy: 0.9619 - factorized_top_k/top_10_categorical_accuracy: 0.9889 - factorized_top_k/top_50_categorical_accuracy: 0.9993 - factorized_top_k/top_100_categorical_accuracy: 1.0000 - loss: 1345.7159 - regularization_loss: 0.0000e+00 - total_loss: 1345.7159\n",
      "Epoch 59/70\n",
      "1/1 [==============================] - 1s 1s/step - factorized_top_k/top_1_categorical_accuracy: 0.6281 - factorized_top_k/top_5_categorical_accuracy: 0.9607 - factorized_top_k/top_10_categorical_accuracy: 0.9885 - factorized_top_k/top_50_categorical_accuracy: 0.9993 - factorized_top_k/top_100_categorical_accuracy: 0.9996 - loss: 1333.8535 - regularization_loss: 0.0000e+00 - total_loss: 1333.8535\n",
      "Epoch 60/70\n",
      "\n",
      "Epoch 60: saving model to /kaggle/working/output/model/\n",
      "1/1 [==============================] - 1s 1s/step - factorized_top_k/top_1_categorical_accuracy: 0.6441 - factorized_top_k/top_5_categorical_accuracy: 0.9663 - factorized_top_k/top_10_categorical_accuracy: 0.9856 - factorized_top_k/top_50_categorical_accuracy: 0.9985 - factorized_top_k/top_100_categorical_accuracy: 0.9989 - loss: 1423.5720 - regularization_loss: 0.0000e+00 - total_loss: 1423.5720\n",
      "Epoch 61/70\n",
      "1/1 [==============================] - 1s 1s/step - factorized_top_k/top_1_categorical_accuracy: 0.6433 - factorized_top_k/top_5_categorical_accuracy: 0.9685 - factorized_top_k/top_10_categorical_accuracy: 0.9848 - factorized_top_k/top_50_categorical_accuracy: 0.9993 - factorized_top_k/top_100_categorical_accuracy: 0.9993 - loss: 1385.2649 - regularization_loss: 0.0000e+00 - total_loss: 1385.2649\n",
      "Epoch 62/70\n",
      "\n",
      "Epoch 62: saving model to /kaggle/working/output/model/\n",
      "1/1 [==============================] - 2s 2s/step - factorized_top_k/top_1_categorical_accuracy: 0.6148 - factorized_top_k/top_5_categorical_accuracy: 0.9559 - factorized_top_k/top_10_categorical_accuracy: 0.9844 - factorized_top_k/top_50_categorical_accuracy: 0.9996 - factorized_top_k/top_100_categorical_accuracy: 1.0000 - loss: 1365.0997 - regularization_loss: 0.0000e+00 - total_loss: 1365.0997\n",
      "Epoch 63/70\n",
      "1/1 [==============================] - 1s 1s/step - factorized_top_k/top_1_categorical_accuracy: 0.6370 - factorized_top_k/top_5_categorical_accuracy: 0.9637 - factorized_top_k/top_10_categorical_accuracy: 0.9878 - factorized_top_k/top_50_categorical_accuracy: 0.9989 - factorized_top_k/top_100_categorical_accuracy: 0.9996 - loss: 1337.1704 - regularization_loss: 0.0000e+00 - total_loss: 1337.1704\n",
      "Epoch 64/70\n",
      "\n",
      "Epoch 64: saving model to /kaggle/working/output/model/\n",
      "1/1 [==============================] - 1s 1s/step - factorized_top_k/top_1_categorical_accuracy: 0.7626 - factorized_top_k/top_5_categorical_accuracy: 0.9611 - factorized_top_k/top_10_categorical_accuracy: 0.9781 - factorized_top_k/top_50_categorical_accuracy: 0.9978 - factorized_top_k/top_100_categorical_accuracy: 0.9989 - loss: 1303.6962 - regularization_loss: 0.0000e+00 - total_loss: 1303.6962\n",
      "Epoch 65/70\n",
      "1/1 [==============================] - 1s 1s/step - factorized_top_k/top_1_categorical_accuracy: 0.6393 - factorized_top_k/top_5_categorical_accuracy: 0.9652 - factorized_top_k/top_10_categorical_accuracy: 0.9844 - factorized_top_k/top_50_categorical_accuracy: 0.9989 - factorized_top_k/top_100_categorical_accuracy: 0.9989 - loss: 1362.7483 - regularization_loss: 0.0000e+00 - total_loss: 1362.7483\n",
      "Epoch 66/70\n",
      "\n",
      "Epoch 66: saving model to /kaggle/working/output/model/\n",
      "1/1 [==============================] - 2s 2s/step - factorized_top_k/top_1_categorical_accuracy: 0.6348 - factorized_top_k/top_5_categorical_accuracy: 0.9711 - factorized_top_k/top_10_categorical_accuracy: 0.9867 - factorized_top_k/top_50_categorical_accuracy: 0.9993 - factorized_top_k/top_100_categorical_accuracy: 0.9993 - loss: 1336.2396 - regularization_loss: 0.0000e+00 - total_loss: 1336.2396\n",
      "Epoch 67/70\n",
      "1/1 [==============================] - 1s 1s/step - factorized_top_k/top_1_categorical_accuracy: 0.7578 - factorized_top_k/top_5_categorical_accuracy: 0.9500 - factorized_top_k/top_10_categorical_accuracy: 0.9711 - factorized_top_k/top_50_categorical_accuracy: 0.9989 - factorized_top_k/top_100_categorical_accuracy: 0.9996 - loss: 1355.3013 - regularization_loss: 0.0000e+00 - total_loss: 1355.3013\n",
      "Epoch 68/70\n",
      "\n",
      "Epoch 68: saving model to /kaggle/working/output/model/\n",
      "1/1 [==============================] - 1s 1s/step - factorized_top_k/top_1_categorical_accuracy: 0.7522 - factorized_top_k/top_5_categorical_accuracy: 0.9500 - factorized_top_k/top_10_categorical_accuracy: 0.9715 - factorized_top_k/top_50_categorical_accuracy: 0.9989 - factorized_top_k/top_100_categorical_accuracy: 0.9996 - loss: 1317.1769 - regularization_loss: 0.0000e+00 - total_loss: 1317.1769\n",
      "Epoch 69/70\n",
      "1/1 [==============================] - 1s 1s/step - factorized_top_k/top_1_categorical_accuracy: 0.6356 - factorized_top_k/top_5_categorical_accuracy: 0.9689 - factorized_top_k/top_10_categorical_accuracy: 0.9848 - factorized_top_k/top_50_categorical_accuracy: 0.9996 - factorized_top_k/top_100_categorical_accuracy: 1.0000 - loss: 1274.5558 - regularization_loss: 0.0000e+00 - total_loss: 1274.5558\n",
      "Epoch 70/70\n",
      "\n",
      "Epoch 70: saving model to /kaggle/working/output/model/\n",
      "1/1 [==============================] - 1s 1s/step - factorized_top_k/top_1_categorical_accuracy: 0.6237 - factorized_top_k/top_5_categorical_accuracy: 0.9667 - factorized_top_k/top_10_categorical_accuracy: 0.9826 - factorized_top_k/top_50_categorical_accuracy: 0.9989 - factorized_top_k/top_100_categorical_accuracy: 0.9989 - loss: 1319.1996 - regularization_loss: 0.0000e+00 - total_loss: 1319.1996\n"
     ]
    },
    {
     "data": {
      "text/plain": [
       "<keras.src.callbacks.History at 0x7fc8e214a4d0>"
      ]
     },
     "execution_count": 20,
     "metadata": {},
     "output_type": "execute_result"
    }
   ],
   "source": [
    "path = os.path.join(\"/kaggle/working/output/\", \"model/\")\n",
    "\n",
    "cp_callback = tf.keras.callbacks.ModelCheckpoint(\n",
    "    filepath=path, \n",
    "    verbose=1, \n",
    "    save_weights_only=True,\n",
    "    save_freq=2)\n",
    "\n",
    "model.fit(cached_train, callbacks=[cp_callback],epochs=70)"
   ]
  },
  {
   "cell_type": "markdown",
   "id": "00b7b227",
   "metadata": {
    "papermill": {
     "duration": 0.026347,
     "end_time": "2023-10-01T13:54:08.953422",
     "exception": false,
     "start_time": "2023-10-01T13:54:08.927075",
     "status": "completed"
    },
    "tags": []
   },
   "source": [
    "You can follow the training in <b>Tensorboard</b>:\n"
   ]
  },
  {
   "cell_type": "markdown",
   "id": "55b497cd",
   "metadata": {
    "papermill": {
     "duration": 0.024104,
     "end_time": "2023-10-01T13:54:09.002489",
     "exception": false,
     "start_time": "2023-10-01T13:54:08.978385",
     "status": "completed"
    },
    "tags": []
   },
   "source": [
    "<div align='center'>\n",
    "   <img src=\"https://miro.medium.com/v2/resize:fit:786/format:webp/1*TtgkN48_QKqnzwxLJqbPvg.png\">\n",
    "</div>"
   ]
  },
  {
   "cell_type": "markdown",
   "id": "62cf9c65",
   "metadata": {
    "papermill": {
     "duration": 0.023911,
     "end_time": "2023-10-01T13:54:09.051492",
     "exception": false,
     "start_time": "2023-10-01T13:54:09.027581",
     "status": "completed"
    },
    "tags": []
   },
   "source": [
    "## Evaluation"
   ]
  },
  {
   "cell_type": "code",
   "execution_count": 21,
   "id": "9daaabee",
   "metadata": {
    "execution": {
     "iopub.execute_input": "2023-10-01T13:54:09.102355Z",
     "iopub.status.busy": "2023-10-01T13:54:09.101664Z",
     "iopub.status.idle": "2023-10-01T13:54:09.929204Z",
     "shell.execute_reply": "2023-10-01T13:54:09.928417Z"
    },
    "papermill": {
     "duration": 0.855553,
     "end_time": "2023-10-01T13:54:09.931243",
     "exception": false,
     "start_time": "2023-10-01T13:54:09.075690",
     "status": "completed"
    },
    "tags": []
   },
   "outputs": [
    {
     "name": "stdout",
     "output_type": "stream",
     "text": [
      "1/1 [==============================] - 1s 815ms/step - factorized_top_k/top_1_categorical_accuracy: 0.5567 - factorized_top_k/top_5_categorical_accuracy: 0.9633 - factorized_top_k/top_10_categorical_accuracy: 0.9900 - factorized_top_k/top_50_categorical_accuracy: 1.0000 - factorized_top_k/top_100_categorical_accuracy: 1.0000 - loss: 22.3602 - regularization_loss: 0.0000e+00 - total_loss: 22.3602\n"
     ]
    },
    {
     "data": {
      "text/plain": [
       "{'factorized_top_k/top_1_categorical_accuracy': 0.5566666722297668,\n",
       " 'factorized_top_k/top_5_categorical_accuracy': 0.9633333086967468,\n",
       " 'factorized_top_k/top_10_categorical_accuracy': 0.9900000095367432,\n",
       " 'factorized_top_k/top_50_categorical_accuracy': 1.0,\n",
       " 'factorized_top_k/top_100_categorical_accuracy': 1.0,\n",
       " 'loss': 22.360219955444336,\n",
       " 'regularization_loss': 0,\n",
       " 'total_loss': 22.360219955444336}"
      ]
     },
     "execution_count": 21,
     "metadata": {},
     "output_type": "execute_result"
    }
   ],
   "source": [
    "model.evaluate(cached_test, return_dict=True)"
   ]
  },
  {
   "cell_type": "markdown",
   "id": "91fc6f2a",
   "metadata": {
    "papermill": {
     "duration": 0.024124,
     "end_time": "2023-10-01T13:54:09.980045",
     "exception": false,
     "start_time": "2023-10-01T13:54:09.955921",
     "status": "completed"
    },
    "tags": []
   },
   "source": [
    "## SCANN - Scalable Nearest Neighbors"
   ]
  },
  {
   "cell_type": "markdown",
   "id": "9c178b4f",
   "metadata": {
    "papermill": {
     "duration": 0.024171,
     "end_time": "2023-10-01T13:54:10.029138",
     "exception": false,
     "start_time": "2023-10-01T13:54:10.004967",
     "status": "completed"
    },
    "tags": []
   },
   "source": [
    "Finally, we import <b>SCANN</b> and create an index of vacancies. For more information about SCANN, visit the github page:\n",
    "\n",
    "<b>SCANN</b>: https://github.com/google-research/google-research/tree/master/scann"
   ]
  },
  {
   "cell_type": "code",
   "execution_count": 22,
   "id": "3d1d1011",
   "metadata": {
    "execution": {
     "iopub.execute_input": "2023-10-01T13:54:10.079025Z",
     "iopub.status.busy": "2023-10-01T13:54:10.078680Z",
     "iopub.status.idle": "2023-10-01T13:54:13.838643Z",
     "shell.execute_reply": "2023-10-01T13:54:13.837658Z"
    },
    "papermill": {
     "duration": 3.787923,
     "end_time": "2023-10-01T13:54:13.841117",
     "exception": false,
     "start_time": "2023-10-01T13:54:10.053194",
     "status": "completed"
    },
    "tags": []
   },
   "outputs": [],
   "source": [
    "import scann\n",
    "\n",
    "index=df[\"Vacancy_name\"].map(lambda x: [model.movie_model(tf.constant(x))])\n",
    "\n",
    "indice=[]\n",
    "for i in range(df.shape[0]):\n",
    "    indice.append(np.array(index[i][0]))"
   ]
  },
  {
   "cell_type": "markdown",
   "id": "cd89b72d",
   "metadata": {
    "papermill": {
     "duration": 0.025153,
     "end_time": "2023-10-01T13:54:13.892299",
     "exception": false,
     "start_time": "2023-10-01T13:54:13.867146",
     "status": "completed"
    },
    "tags": []
   },
   "source": [
    "Then we submit our query, that is composed by the competences of a given candidate, split, and with length greater than 3. The result will return <b>neighbors</b> (closest ones) and <b>distances</b> from these neighbors to the embeddings of the query you submitted."
   ]
  },
  {
   "cell_type": "markdown",
   "id": "35e93c54",
   "metadata": {
    "papermill": {
     "duration": 0.024096,
     "end_time": "2023-10-01T13:54:13.940808",
     "exception": false,
     "start_time": "2023-10-01T13:54:13.916712",
     "status": "completed"
    },
    "tags": []
   },
   "source": [
    "## Candidate Query"
   ]
  },
  {
   "cell_type": "code",
   "execution_count": 23,
   "id": "6478b8cf",
   "metadata": {
    "execution": {
     "iopub.execute_input": "2023-10-01T13:54:13.991260Z",
     "iopub.status.busy": "2023-10-01T13:54:13.990922Z",
     "iopub.status.idle": "2023-10-01T13:54:14.005669Z",
     "shell.execute_reply": "2023-10-01T13:54:14.004429Z"
    },
    "papermill": {
     "duration": 0.042193,
     "end_time": "2023-10-01T13:54:14.007862",
     "exception": false,
     "start_time": "2023-10-01T13:54:13.965669",
     "status": "completed"
    },
    "tags": []
   },
   "outputs": [],
   "source": [
    "your_query=\"tiengo experiencia en contacto con el cliente y ventas\"\n",
    "\n",
    "query=np.sum([model.user_model(tf.constant([m for m in your_query.split() if len(m)>3][i])) for i in range(0,len([m for m in your_query.split() if len(m)>3]))],axis=0)"
   ]
  },
  {
   "cell_type": "markdown",
   "id": "c599dc09",
   "metadata": {
    "papermill": {
     "duration": 0.024163,
     "end_time": "2023-10-01T13:54:14.056336",
     "exception": false,
     "start_time": "2023-10-01T13:54:14.032173",
     "status": "completed"
    },
    "tags": []
   },
   "source": [
    "## Search in Vacancy Index"
   ]
  },
  {
   "cell_type": "code",
   "execution_count": 24,
   "id": "1798037f",
   "metadata": {
    "execution": {
     "iopub.execute_input": "2023-10-01T13:54:14.116721Z",
     "iopub.status.busy": "2023-10-01T13:54:14.116036Z",
     "iopub.status.idle": "2023-10-01T13:54:16.730934Z",
     "shell.execute_reply": "2023-10-01T13:54:16.729693Z"
    },
    "papermill": {
     "duration": 2.64923,
     "end_time": "2023-10-01T13:54:16.733468",
     "exception": false,
     "start_time": "2023-10-01T13:54:14.084238",
     "status": "completed"
    },
    "tags": []
   },
   "outputs": [],
   "source": [
    "searcher = scann.scann_ops_pybind.builder(np.array(indice), 10, \"dot_product\").tree(\n",
    "    num_leaves=500, num_leaves_to_search=100, training_sample_size=df.shape[0]).score_ah(\n",
    "    2, anisotropic_quantization_threshold=0.2).reorder(100).build()"
   ]
  },
  {
   "cell_type": "code",
   "execution_count": 25,
   "id": "68b6c919",
   "metadata": {
    "execution": {
     "iopub.execute_input": "2023-10-01T13:54:16.784854Z",
     "iopub.status.busy": "2023-10-01T13:54:16.784072Z",
     "iopub.status.idle": "2023-10-01T13:54:16.793292Z",
     "shell.execute_reply": "2023-10-01T13:54:16.792256Z"
    },
    "papermill": {
     "duration": 0.03659,
     "end_time": "2023-10-01T13:54:16.795252",
     "exception": false,
     "start_time": "2023-10-01T13:54:16.758662",
     "status": "completed"
    },
    "tags": []
   },
   "outputs": [
    {
     "data": {
      "text/plain": [
       "2762                     Supervisor Ventas Rol Televentas\n",
       "94                  Asesor Servicio Al Usuario Backoffice\n",
       "506        Asesor Call Center Atenci N Con Venta Cruzada \n",
       "2662    Asesor Comercial Activaci N Comercios Call Center\n",
       "2270                   Residente De Entregas Y Postventas\n",
       "1334                       Experto De Atenci N Al Cliente\n",
       "303                                   Asesor De Arriendos\n",
       "247                             Cliente Incognito Popayan\n",
       "1345                         Auxiliar Servicio Al Cliente\n",
       "2395                         Auxiliar Servicio Al Cliente\n",
       "Name: Vacancy_name, dtype: object"
      ]
     },
     "execution_count": 25,
     "metadata": {},
     "output_type": "execute_result"
    }
   ],
   "source": [
    "neighbors, distances = searcher.search_batched([query])\n",
    "\n",
    "df.iloc[neighbors[0],:].Vacancy_name"
   ]
  },
  {
   "cell_type": "code",
   "execution_count": 26,
   "id": "fa6b98a2",
   "metadata": {
    "execution": {
     "iopub.execute_input": "2023-10-01T13:54:16.846025Z",
     "iopub.status.busy": "2023-10-01T13:54:16.845669Z",
     "iopub.status.idle": "2023-10-01T13:54:16.852817Z",
     "shell.execute_reply": "2023-10-01T13:54:16.851798Z"
    },
    "papermill": {
     "duration": 0.035385,
     "end_time": "2023-10-01T13:54:16.854960",
     "exception": false,
     "start_time": "2023-10-01T13:54:16.819575",
     "status": "completed"
    },
    "tags": []
   },
   "outputs": [
    {
     "data": {
      "text/plain": [
       "array([16.820728, 15.420742, 15.294642, 14.80526 , 14.783474, 14.727694,\n",
       "       14.625916, 14.487548, 14.481433, 14.481433], dtype=float32)"
      ]
     },
     "execution_count": 26,
     "metadata": {},
     "output_type": "execute_result"
    }
   ],
   "source": [
    "distances[0]"
   ]
  },
  {
   "cell_type": "code",
   "execution_count": 27,
   "id": "55bcb17d",
   "metadata": {
    "execution": {
     "iopub.execute_input": "2023-10-01T13:54:16.907674Z",
     "iopub.status.busy": "2023-10-01T13:54:16.907322Z",
     "iopub.status.idle": "2023-10-01T13:54:17.225418Z",
     "shell.execute_reply": "2023-10-01T13:54:17.224357Z"
    },
    "papermill": {
     "duration": 0.34696,
     "end_time": "2023-10-01T13:54:17.227408",
     "exception": false,
     "start_time": "2023-10-01T13:54:16.880448",
     "status": "completed"
    },
    "tags": []
   },
   "outputs": [
    {
     "data": {
      "image/png": "[encoded data removed]",
      "text/plain": [
       "<Figure size 640x480 with 1 Axes>"
      ]
     },
     "metadata": {},
     "output_type": "display_data"
    }
   ],
   "source": [
    "import matplotlib.pyplot as plt\n",
    "\n",
    "colors = ['black', 'gray', 'red', 'blue', 'magenta', 'pink', 'yellow', 'cyan', 'green', 'lime']\n",
    "plt.barh(list(df.iloc[neighbors[0],:].Vacancy_name),distances[0],color=colors)\n",
    "plt.xlim(min(distances[0])-1, max(distances[0])+3)\n",
    "plt.title(\"Scann\")\n",
    "plt.xlabel(\"Distances\")\n",
    "plt.ylabel(\"Neighbors\")\n",
    "plt.show()"
   ]
  },
  {
   "cell_type": "code",
   "execution_count": null,
   "id": "41da54c6",
   "metadata": {
    "papermill": {
     "duration": 0.025123,
     "end_time": "2023-10-01T13:54:17.278587",
     "exception": false,
     "start_time": "2023-10-01T13:54:17.253464",
     "status": "completed"
    },
    "tags": []
   },
   "outputs": [],
   "source": []
  }
 ],
 "metadata": {
  "kernelspec": {
   "display_name": "Python 3",
   "language": "python",
   "name": "python3"
  },
  "language_info": {
   "codemirror_mode": {
    "name": "ipython",
    "version": 3
   },
   "file_extension": ".py",
   "mimetype": "text/x-python",
   "name": "python",
   "nbconvert_exporter": "python",
   "pygments_lexer": "ipython3",
   "version": "3.10.12"
  },
  "papermill": {
   "default_parameters": {},
   "duration": 250.364754,
   "end_time": "2023-10-01T13:54:20.009484",
   "environment_variables": {},
   "exception": null,
   "input_path": "__notebook__.ipynb",
   "output_path": "__notebook__.ipynb",
   "parameters": {},
   "start_time": "2023-10-01T13:50:09.644730",
   "version": "2.4.0"
  }
 },
 "nbformat": 4,
 "nbformat_minor": 5
}
