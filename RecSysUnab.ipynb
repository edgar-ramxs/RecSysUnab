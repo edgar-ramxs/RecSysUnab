{
 "cells": [
  {
   "cell_type": "markdown",
   "metadata": {},
   "source": [
    "# SISTEMA DE RECOMENDACIÓN DE EJERCICIOS DE PROGRAMACIÓN"
   ]
  },
  {
   "cell_type": "markdown",
   "metadata": {},
   "source": [
    "## 1. COMPRENCIÓN DEL PROBLEMA"
   ]
  },
  {
   "cell_type": "markdown",
   "metadata": {},
   "source": [
    "Dentro de la Universidad Andrés Bello, los estudiantes de carreras de ingeniería deben cursar la asignatura de \"Introducción a la Programación\", ya que necesitan tener conocimientos básicos, medios o avanzados de programación, dependiendo de la carrera que estén cursando y en qué año van.\n",
    "\n",
    "La problemática surge cuando ciertos estudiantes reprueban o sacan notas mínimas en las pruebas y trabajos de la asignatura. Siendo esta la primera asignatura de programación de ciertas carreras, puede marcar seriamente el desempeño del estudiante en el futuro, llegando a provocar que algunos tengan deficiencias en conocimientos esenciales para sus carreras.\n",
    "\n",
    "Además, los estudiantes a menudo carecen de orientación personalizada para su aprendizaje, lo que puede resultar en un bajo rendimiento en los métodos de estudio, ocasionando un bajo conocimiento o baja nota en la asignatura.\n",
    "\n",
    "Por tanto, este proyecto busca desarrollar e implementar un sistema de recomendación de ejercicios de programación para estudiantes universitarios de ingeniería de la Universidad Andrés Bello. Este sistema personalizará las sugerencias de ejercicios según el nivel de habilidad, preferencias individuales y objetivos de aprendizaje de cada estudiante."
   ]
  },
  {
   "cell_type": "markdown",
   "metadata": {},
   "source": [
    "## 2. COMPRENCIÓN DE LOS DATOS"
   ]
  },
  {
   "cell_type": "markdown",
   "metadata": {},
   "source": [
    "### CATALOGO\n",
    "\n",
    "| Campo         | Descripción                                                                                                                                               | Tipo  |   Valores     | \n",
    "|---------------|-----------------------------------------------------------------------------------------------------------------------------------------------------------|-------|---------------|\n",
    "| hito          | Conjunto de ejercicios                                                                                                                                    | int   | [1,2,3,4]     |\n",
    "| oid           | Identificador del ejercicio                                                                                                                               | str   | *             |\n",
    "| nombre        | Nombre del ejercicio                                                                                                                                      | str   | *             |\n",
    "| s1            | Nivel 4 en Algoritmos - Algoritmos Recursivos                                                                                                             | int   | binario [0,1] |\n",
    "| s2            | Nivel 3 en Algoritmos - Algoritmos que combinan varias estructuras de datos                                                                               | int   | binario [0,1] |\n",
    "| s3            | Nivel 2 en Algoritmos - Algoritmos que presentan información utilizando una estructura de datos                                                           | int   | binario [0,1] |\n",
    "| s4            | Nivel 1 en Algoritmos - Algoritmos que no requieren una estructura de datos                                                                               | int   | binario [0,1] |\n",
    "| k1            | Conocimientos en definir una clase con atributos y métodos.                                                                                               | int   | binario [0,1] |\n",
    "| k2            | Conocimientos en agregar, quitar y buscar elementos dentro de una estructura de datos (cadenas o listas).                                                 | int   | binario [0,1] |\n",
    "| k3            | Conocimientos en definir un bucle y determinar sus características en función del problema.                                                               | int   | binario [0,1] |\n",
    "| k4            | Conocimientos en definir variables, usar operadores de comparación, construir expresiones condicionales, etc.                                             | int   | binario [0,1] |\n",
    "| skill         | un escalar que indica la habilidad del estudiante                                                                                                         | int   | (0, 12)       |\n",
    "| knowledge     | un escalar que indica el conocimiento del estudiante                                                                                                      | int   | (0, 12)       |\n",
    "| complexity    | un escalar que indica la complejidad, número binario de 8 bits resultante de unir s1,s2,s3,s4,k1,k2,k3,k4                                                 | int   | binario [0,1] |\n",
    "| item          | Código alfabético asociado a la complejidad, combina habilidad (4 bits en ASCII) con conocimiento (4 bits en ASCII): 0->a,1->b,2->c, etc.                 | str   | *             |\n"
   ]
  },
  {
   "cell_type": "markdown",
   "metadata": {},
   "source": [
    "### DATA_A\n",
    "\n",
    "| Campo         | Descripción                                                                                                                              | Tipo  | Valores    | \n",
    "|---------------|------------------------------------------------------------------------------------------------------------------------------------------|-------|------------|\n",
    "| rut           | Número de identificación ficticio del estudiante                                                                                         | int   | continuo   |\n",
    "| usuario       | anonimo                                                                                                                                  | *     | *          |\n",
    "| correo        | anonimo                                                                                                                                  | *     | *          |\n",
    "| nombre        | anonimo                                                                                                                                  | *     | *          |\n",
    "| nrc           | nrc del curso en donde el estuiante vio la asignatura                                                                                    | int   | continuo   |\n",
    "| profesor      | anonimo                                                                                                                                  | *     | *          |\n",
    "| i-(1, 6)      | anonimo                                                                                                                                  | *     | *          |\n",
    "| f-(1, 6)      | anonimo                                                                                                                                  | *     | *          |\n",
    "| t-(1, 6)      | anonimo                                                                                                                                  | *     | *          |\n",
    "| r-(1, 6)      | anonimo                                                                                                                                  | *     | *          |\n",
    "| p-(1, 6)      | anonimo                                                                                                                                  | *     | *          |\n",
    "| s-(1, 6)      | anonimo                                                                                                                                  | *     | *          |\n",
    "| l-(1, 6)      | anonimo                                                                                                                                  | *     | *          |\n",
    "| op-(1, 6)     | anonimo                                                                                                                                  | *     | *          |\n",
    "| sv-(1, 6)     | anonimo                                                                                                                                  | *     | *          |\n",
    "| lt            | anonimo                                                                                                                                  | *     | *          |\n",
    "| tt            | anonimo                                                                                                                                  | *     | *          |\n",
    "| pt            | anonimo                                                                                                                                  | *     | *          |\n",
    "| game_score    | anonimo                                                                                                                                  | *     | *          |\n",
    "| score         | anonimo                                                                                                                                  | *     | *          |\n",
    "| score_a       | anonimo                                                                                                                                  | *     | *          |\n",
    "| score_p       | anonimo                                                                                                                                  | *     | *          |\n",
    "| score_d       | anonimo                                                                                                                                  | *     | *          |\n",
    "| score_s       | anonimo                                                                                                                                  | *     | *          |\n",
    "| tema2         | anonimo                                                                                                                                  | *     | *          |\n",
    "| tema3         | anonimo                                                                                                                                  | *     | *          |\n",
    "| tema4         | anonimo                                                                                                                                  | *     | *          |\n",
    "| tema5         | anonimo                                                                                                                                  | *     | *          |\n",
    "| tema6         | anonimo                                                                                                                                  | *     | *          |\n",
    "| tema7         | anonimo                                                                                                                                  | *     | *          |\n",
    "| tema8         | anonimo                                                                                                                                  | *     | *          |\n",
    "| tema9         | anonimo                                                                                                                                  | *     | *          |\n",
    "| hito-(1, 4)   | anonimo                                                                                                                                  | *     | *          |\n",
    "| seq-(1, 4)    | anonimo                                                                                                                                  | *     | *          |\n",
    "| c-(1, 4)      | anonimo                                                                                                                                  | *     | *          |\n",
    "| e-(1, 4)      | anonimo                                                                                                                                  | *     | *          |\n",
    "| clase         | anonimo                                                                                                                                  | *     | *          |\n",
    "| exitosos      | anonimo                                                                                                                                  | *     | *          |\n",
    "| fallidos      | anonimo                                                                                                                                  | *     | *          |\n",
    "| envios        | anonimo                                                                                                                                  | *     | *          |\n",
    "| videos        | anonimo                                                                                                                                  | *     | *          |\n",
    "| programa      | anonimo                                                                                                                                  | *     | *          |\n",
    "| sol-(1, 4)    | anonimo                                                                                                                                  | *     | *          |\n",
    "| tarea1        | anonimo                                                                                                                                  | *     | *          |\n",
    "| tarea2        | anonimo                                                                                                                                  | *     | *          |\n",
    "| controles     | anonimo                                                                                                                                  | *     | *          |\n",
    "| np            | anonimo                                                                                                                                  | *     | *          |\n",
    "| examen        | anonimo                                                                                                                                  | *     | *          |\n",
    "| final         | anonimo                                                                                                                                  | *     | *          |\n",
    "| estado        | anonimo                                                                                                                                  | *     | *          |"
   ]
  },
  {
   "cell_type": "markdown",
   "metadata": {},
   "source": [
    "### DATA_A_2021\n",
    "\n",
    "| Campo             | Descripción                                                                                      | Tipo   | Valores       |\n",
    "|-------------------|--------------------------------------------------------------------------------------------------|--------|---------------|\n",
    "| hito-(1, 4)       | Son los puntajes obtenidos al realizar los ejercicios referentes de ese hito                     | int    | [1,2,3,4]     |\n",
    "| seq-(1, 4)        | Secuencia de Complejidad de Ejercicios (alfabética) del Hito-n                                   | str    | *             |\n",
    "| c-(1, 4)          | Complejidad Numérica Total del Hito-n                                                            | str    | *             |\n",
    "| nrc               | NRC del curso                                                                                    | int    | continuos     |\n",
    "| exitosos          | Número de envíos exitosos                                                                        | int    | *             |\n",
    "| fallidos          | Número de envíos fallidos                                                                        | int    | *             |\n",
    "| envidos           | Número total de envíos                                                                           | int    | *             |\n",
    "| e-(0, 52)         | Ejercicio que realizó la persona dentro de la plataforma                                         | int    | binario [0,1] |\n",
    "| programa          | ID de la carrera que está cursando el estudiante en la UNAB                                      | str    | *             |\n",
    "| sol1              | Nota del estudiante al finalizar el semestre                                                     | float  | [1.0, 7.0]    |\n",
    "| id                | ID del registro enviado                                                                          | int    | continuos     |"
   ]
  },
  {
   "cell_type": "markdown",
   "metadata": {},
   "source": [
    "### MODULOS\n"
   ]
  },
  {
   "cell_type": "code",
   "execution_count": 2,
   "metadata": {},
   "outputs": [],
   "source": [
    "import numpy as np \n",
    "import pandas as pd\n",
    "import seaborn as sns\n",
    "import matplotlib.pyplot as plt\n",
    "import models.utils.visualization as utils\n"
   ]
  },
  {
   "cell_type": "code",
   "execution_count": 3,
   "metadata": {},
   "outputs": [],
   "source": [
    "# DATA\n",
    "VAR_DIR_DATA_ORIGINAL = './data/original'\n",
    "\n",
    "# El catálogo contiene los ejercicios de programación que estaban disponibles en la página web.\n",
    "df_catalogo = pd.read_csv(f\"{VAR_DIR_DATA_ORIGINAL}/catalogo.csv\", sep=\";\", encoding=\"latin1\")\n",
    "\n",
    "# La variable df_data_a almacena registros generales de los estudiantes durante el semestre, es decir, datos del curso en general.\n",
    "df_data_a = pd.read_csv(f\"{VAR_DIR_DATA_ORIGINAL}/dataset_a.csv\", sep=\";\", encoding=\"latin1\")\n",
    "\n",
    "# La variable df_data_a_2021 contiene registros globales de los estudiantes que intentaron realizar los ejercicios de la página web en 2021.\n",
    "df_data_a_2021 = pd.read_csv(f\"{VAR_DIR_DATA_ORIGINAL}/dataset_a_2021.csv\", sep=\";\", encoding=\"latin1\")"
   ]
  },
  {
   "cell_type": "markdown",
   "metadata": {},
   "source": [
    "### DIMENSIONES DE LOS DATASETS"
   ]
  },
  {
   "cell_type": "code",
   "execution_count": null,
   "metadata": {},
   "outputs": [],
   "source": [
    "# CATALOGO\n",
    "print(utils.show_dataframe_dimension(df_catalogo))\n",
    "# DATA_A\n",
    "print(utils.show_dataframe_dimension(df_data_a))\n",
    "# DATA_A_2021\n",
    "print(utils.show_dataframe_dimension(df_data_a_2021))"
   ]
  },
  {
   "cell_type": "markdown",
   "metadata": {},
   "source": [
    "### INFORMACION DE LOS DATASETS"
   ]
  },
  {
   "cell_type": "code",
   "execution_count": null,
   "metadata": {},
   "outputs": [],
   "source": [
    "# VISUALIZACION: CATALOGO\n",
    "df_catalogo.head()"
   ]
  },
  {
   "cell_type": "code",
   "execution_count": null,
   "metadata": {},
   "outputs": [],
   "source": [
    "# VISUALIZACION: DATA_A\n",
    "df_data_a.head()"
   ]
  },
  {
   "cell_type": "code",
   "execution_count": null,
   "metadata": {},
   "outputs": [],
   "source": [
    "# VISUALIZACION: DATA_A_2021\n",
    "df_data_a_2021.head()"
   ]
  },
  {
   "cell_type": "markdown",
   "metadata": {},
   "source": [
    "> NOTA: Se puede apreciar dos cosas:\n",
    "> - En el dataset 'data_a' existen datos faltantes por proteccion a la privacidad de los alumnos y profesor\n",
    "> - En el dataset 'data_a_2021' existen datos faltantes en varias filas, por lo que, se puede decir que no se pudo recopilar bien la informacion o los alumnos que interactuaron no completaron las tareas. "
   ]
  },
  {
   "cell_type": "code",
   "execution_count": null,
   "metadata": {},
   "outputs": [],
   "source": [
    "# INFORMACIÓN DE LAS VARIABLES DEL DATASET: CATALOGO\n",
    "df_catalogo.info()"
   ]
  },
  {
   "cell_type": "code",
   "execution_count": null,
   "metadata": {},
   "outputs": [],
   "source": [
    "# INFORMACIÓN DE LAS VARIABLES DEL DATASET: DATA_A\n",
    "df_data_a.info()"
   ]
  },
  {
   "cell_type": "code",
   "execution_count": null,
   "metadata": {},
   "outputs": [],
   "source": [
    "# INFORMACIÓN DE LAS VARIABLES DEL DATASET: DATA_A_2021\n",
    "df_data_a_2021.info()"
   ]
  },
  {
   "cell_type": "markdown",
   "metadata": {},
   "source": [
    "### DATOS FALTANTES"
   ]
  },
  {
   "cell_type": "code",
   "execution_count": null,
   "metadata": {},
   "outputs": [],
   "source": [
    "# DATOS FALTANTES: CATALOGO\n",
    "utils.show_missing_data(df_catalogo)"
   ]
  },
  {
   "cell_type": "markdown",
   "metadata": {},
   "source": [
    "> NOTA: El dataset de los ejercicios (Catalogo.csv) no contempla con datos vacios.Cuenta con 53 ejercicio con sus respectivas carecteristicas."
   ]
  },
  {
   "cell_type": "code",
   "execution_count": null,
   "metadata": {},
   "outputs": [],
   "source": [
    "# DATOS FALTANTES: DATA_A\n",
    "utils.show_missing_data(df_data_a)"
   ]
  },
  {
   "cell_type": "markdown",
   "metadata": {},
   "source": [
    "> NOTA: Para el dataset 'data_a.csv' tiene multiples columnas con datos faltantes, la mayoria tienen que ver con los ejercicios que realizaron los estudiantes. Por tanto, se puede suponer que los estudiantes hacen mas ejercicios de los Hito 1 y 2, siendo que la mayoria de columnas del hito 3 y 4 tienen un 100% de datos faltantes. "
   ]
  },
  {
   "cell_type": "code",
   "execution_count": null,
   "metadata": {},
   "outputs": [],
   "source": [
    "# DATOS FALTANTES: DATA_A_2021\n",
    "utils.show_missing_data(df_data_a_2021)"
   ]
  },
  {
   "cell_type": "markdown",
   "metadata": {},
   "source": [
    "> NOTA: El dataset 'data_a_2021.csv' tienen el mismo problema que el anterior, se nota que existen semejanzas de atributos con mayores porcentajes de datos faltantes. \n",
    "> Las columnas que se repiten como Seq1, Seq2, Seq3 y Seq4, representan la secuencia de ejercicios realizados en cada hito por los estudiantes, es decir, al tener Seq3 y Seq4 todas sus datos vacios en esas columnas, se puede afirmar que los estudiantes solo realizaron ejercicos del Hito 1, en su mayoria, y algunos del Hito 2."
   ]
  },
  {
   "cell_type": "markdown",
   "metadata": {},
   "source": [
    "### METRICAS DE LOS DATASETS"
   ]
  },
  {
   "cell_type": "code",
   "execution_count": null,
   "metadata": {},
   "outputs": [],
   "source": [
    "# DATOS ESTADISTICOS: CATALOGO\n",
    "df_catalogo.describe().T"
   ]
  },
  {
   "cell_type": "code",
   "execution_count": null,
   "metadata": {},
   "outputs": [],
   "source": [
    "# DATOS ESTADISTICOS: DATA_A\n",
    "df_data_a.describe().T"
   ]
  },
  {
   "cell_type": "code",
   "execution_count": null,
   "metadata": {},
   "outputs": [],
   "source": [
    "# DATOS ESTADISTICOS: DATA_A_2021\n",
    "df_data_a_2021.describe().T"
   ]
  },
  {
   "cell_type": "code",
   "execution_count": null,
   "metadata": {},
   "outputs": [],
   "source": [
    "# CORRELACIÓN DE VARIABLES: CATALOGO\n",
    "utils.show_correlation_columns(df_catalogo, 'complexity')"
   ]
  },
  {
   "cell_type": "markdown",
   "metadata": {},
   "source": [
    "> Nota: \n",
    "> Teniendo en cuenta que, si se tuviera que relacionar la complejidad del ejercicio que el estudiante realiza, su puntaje deberia estar influenciado por esta correlacion...\n",
    "> Teniendo en cuenta, que las variables 'Skill' y 'Knowledge' vienen de las variables one-hot-encoded, tienen mucha correlacion, pero la complejidad esta muy influenciada por la habilidad o 'Skill' tenga el ejercicio."
   ]
  },
  {
   "cell_type": "code",
   "execution_count": null,
   "metadata": {},
   "outputs": [],
   "source": [
    "# CORRELACIÓN DE VARIABLES: DATA_A\n",
    "utils.show_correlation_columns(df_data_a, 'final')"
   ]
  },
  {
   "cell_type": "markdown",
   "metadata": {},
   "source": [
    "> Observacion:\n",
    "> - Las variables 'final' y 'np' estan estrechamente correlacionados, esto se puede deber ya que se representan la nota final y nota de presentacion del estudiante al final del semestre.\n",
    "> - Tambien se puede observar como las solemnes 4 y 3 estan igualmente correlacionadas con la nota final del estudiante. Sin embargo, esto es ilogico, ya que si los estudiantes quisieran mejorar su rendimiento academico y mejorar sus notas para eximir la asignatura, deberian realizar ejercicios de los hitos 3 y 4. Asi mismo, reducirian las probabilidades de reprobar."
   ]
  },
  {
   "cell_type": "code",
   "execution_count": null,
   "metadata": {},
   "outputs": [],
   "source": [
    "# CORRELACIÓN DE VARIABLES: DATA_A_2021\n",
    "utils.show_correlation_columns(df_data_a_2021, 'sol1')"
   ]
  },
  {
   "cell_type": "markdown",
   "metadata": {},
   "source": [
    "> Nota:\n",
    "> - Al igual que el dataset anterior, solo se muestra ejercicios y la variable a correlacionar, en este caso, seria 'sol1' que representa el puntaje de la solemne 1 que saco el estudiante. \n",
    "> - En este dataset, solo muestra los ejercicios que mas fluyo en la obtencion del puntaje de la 'sol1'. "
   ]
  },
  {
   "cell_type": "markdown",
   "metadata": {},
   "source": [
    "### GRAFICOS"
   ]
  },
  {
   "cell_type": "code",
   "execution_count": null,
   "metadata": {},
   "outputs": [],
   "source": [
    "# DISTRIBUCIÓN DE LOS DATOS: CATALOGO  \n",
    "df_catalogo.hist(figsize=(22, 20))\n",
    "plt.show()"
   ]
  },
  {
   "cell_type": "code",
   "execution_count": null,
   "metadata": {},
   "outputs": [],
   "source": [
    "# DISTRIBUCIÓN DE LOS DATOS: DATA_A\n",
    "df_data_a.hist(figsize=(30,30))\n",
    "plt.show()"
   ]
  },
  {
   "cell_type": "code",
   "execution_count": null,
   "metadata": {},
   "outputs": [],
   "source": [
    "# DISTRIBUCIÓN DE LOS DATOS: DATA_A_2021\n",
    "df_data_a_2021.hist(figsize=(30, 25))\n",
    "plt.show()"
   ]
  },
  {
   "cell_type": "code",
   "execution_count": null,
   "metadata": {},
   "outputs": [],
   "source": [
    "df_catalogo = df_catalogo[['nombre', 'hito', 'skill', 'knowledge', 'complexity']].sort_values(by=[\"hito\", \"complexity\"], ascending=True)\n",
    "df_catalogo.head(10)"
   ]
  },
  {
   "cell_type": "code",
   "execution_count": 25,
   "metadata": {},
   "outputs": [],
   "source": [
    "df_data_a = df_data_a.sort_values(by='rut', ascending=True).reset_index(drop='index')\n",
    "df_data_a = df_data_a[['rut','programa', 'hito1', 'hito2', 'hito3', 'hito4', 'exitosos', 'fallidos', 'e1', 'e2', 'e3', 'e4', 'sol1', 'sol2', 'sol3', 'sol4','estado']]\n",
    "\n",
    "df_data_a_2021 = df_data_a_2021.sort_values(by='id', ascending=True).drop(labels=['id'], axis=1)\n",
    "df_data_a_2021['rut'] = list(range(df_data_a.shape[0], df_data_a.shape[0] + df_data_a_2021.shape[0]))\n",
    "df_data_a_2021 = df_data_a_2021[['rut', 'programa', 'hito1', 'hito2', 'hito3', 'hito4', 'exitosos', 'fallidos', 'p1', 'p2', 'p3', 'p4', 'sol1']]\n",
    "df_data_a_2021.columns = ['rut', 'programa', 'hito1', 'hito2', 'hito3', 'hito4', 'exitosos', 'fallidos', 'e1', 'e2', 'e3', 'e4', 'sol1']\n",
    "\n",
    "\n",
    "df_data = pd.concat([df_data_a, df_data_a_2021], ignore_index=True)\n",
    "df_data.columns = ['rut','programa', 'hito1', 'hito2', 'hito3', 'hito4', 'exitosos', 'fallidos', 'ejercicios_hito1', 'ejercicios_hito2', 'ejercicios_hito3', 'ejercicios_hito4', 'sol1', 'sol2', 'sol3', 'sol4','estado']"
   ]
  },
  {
   "cell_type": "code",
   "execution_count": null,
   "metadata": {},
   "outputs": [],
   "source": [
    "df_data.head(10)"
   ]
  },
  {
   "cell_type": "code",
   "execution_count": null,
   "metadata": {},
   "outputs": [],
   "source": [
    "show_missing_data(df_data)"
   ]
  },
  {
   "cell_type": "code",
   "execution_count": 27,
   "metadata": {},
   "outputs": [],
   "source": [
    "# FUENTE: https://programacionacademica.unab.cl/\n",
    "\n",
    "df_data['programa'] = df_data['programa'].replace({\n",
    "    'UNAB12100':'INGENIERIA CIVIL INDUSTRIAL',\n",
    "    'UNAB22115':'INGENIERIA CIVIL INDUSTRIAL',\n",
    "    'UNAB22100':'INGENIERIA CIVIL INDUSTRIAL',\n",
    "    'UNAB22510':'INGENIERIA INDUSTRIAL',\n",
    "    'UNAB12510':'INGENIERIA INDUSTRIAL',\n",
    "    'UNAB22505':'INGENIERIA INDUSTRIAL',\n",
    "    'UNAB21503':'INGENIERIA EN COMPUTACION E INFORMATICA',\n",
    "    'UNAB11500':'INGENIERIA EN COMPUTACION E INFORMATICA',\n",
    "    'UNAB21500':'INGENIERIA EN COMPUTACION E INFORMATICA',\n",
    "    'UNAB12210':'INGENIERIA CIVIL INFORMATICA',\n",
    "    'UNAB18000':'BACHILLERATO EN CIENCIAS',\n",
    "    'UNAB16507':'ED. CONTINUA - ECONOMIA Y NEG',\n",
    "    'UNAB35636':'MAG. EN INGENIERIA INDUSTRIAL',\n",
    "    'UNAB10100':'PROG. DE INTERCAMBIO',\n",
    "})"
   ]
  },
  {
   "cell_type": "code",
   "execution_count": null,
   "metadata": {},
   "outputs": [],
   "source": [
    "df_data['programa'].value_counts()"
   ]
  },
  {
   "cell_type": "markdown",
   "metadata": {},
   "source": [
    "### GRAFICOS: catalogo.csv"
   ]
  },
  {
   "cell_type": "code",
   "execution_count": null,
   "metadata": {},
   "outputs": [],
   "source": [
    "# Crear la figura y los ejes\n",
    "fig, axs = plt.subplots(2, 2, figsize=(12, 10))\n",
    "\n",
    "# Ajustar la disposición de los subplots\n",
    "fig.tight_layout(pad=5.0)\n",
    "\n",
    "# Graficar el swarmplot\n",
    "sns.stripplot(data=df_catalogo, x='knowledge', y='skill', hue='hito', palette=\"muted\", dodge=True, ax=axs[0, 0])\n",
    "axs[0, 0].set_title('Swarmplot: Knowledge vs Skill by Hito')\n",
    "\n",
    "# Ocultar el cuarto subplot (axs[1, 1]) si no se usa\n",
    "axs[0, 1].axis('off')\n",
    "\n",
    "# Graficar el histplot para 'skill'\n",
    "sns.histplot(data=df_catalogo, x='skill', kde=True, ax=axs[1, 0])\n",
    "axs[1, 0].set_title('Histogram of Skill')\n",
    "\n",
    "# Graficar el histplot para 'knowledge'\n",
    "sns.histplot(data=df_catalogo, x='knowledge', kde=True, ax=axs[1, 1])\n",
    "axs[1, 1].set_title('Histogram of Knowledge')\n",
    "\n",
    "# Mostrar la figura\n",
    "plt.show()"
   ]
  },
  {
   "cell_type": "markdown",
   "metadata": {},
   "source": [
    "### GRAFICOS: df_data"
   ]
  },
  {
   "cell_type": "code",
   "execution_count": null,
   "metadata": {},
   "outputs": [],
   "source": [
    "# Crear histogramas de todas las columnas\n",
    "axes = df_data.hist(figsize=(30, 25))\n",
    "# Mostrar la figura\n",
    "plt.show()"
   ]
  },
  {
   "cell_type": "code",
   "execution_count": null,
   "metadata": {},
   "outputs": [],
   "source": [
    "carreras = df_data['programa'].value_counts()\n",
    "fig, ax = plt.subplots(figsize=(12, 5))  \n",
    "sns.barplot(x=carreras.values, y=carreras.index, orient='h', hue=carreras.index, palette='Set2', dodge=False, ax=ax)\n",
    "\n",
    "for container in ax.containers:\n",
    "    ax.bar_label(container, fontsize=10)\n",
    "\n",
    "plt.title('Total de estudiantes registrados por carrera', fontsize=16)\n",
    "plt.xlabel('Carreras')\n",
    "plt.ylabel('Número total de estudiantes participantes')\n",
    "plt.show()"
   ]
  },
  {
   "cell_type": "code",
   "execution_count": null,
   "metadata": {},
   "outputs": [],
   "source": [
    "rangos = [(1.0, 2.0), (2.0, 3.0), (3.0, 4.0), (4.0, 5.0), (5.0, 6.0), (6.0, 7.0), (7.0, 7.1)]\n",
    "\n",
    "def contar_personas_en_rango(df, rango):\n",
    "    rango_inferior, rango_superior = rango\n",
    "    return df[(df['sol1'] >= rango_inferior) & (df['sol1'] < rango_superior)].shape[0]\n",
    "\n",
    "conteo_por_rango = []\n",
    "for rango in rangos:\n",
    "    conteo = contar_personas_en_rango(df_data, rango)\n",
    "    conteo_por_rango.append((rango, conteo))\n",
    "\n",
    "# Preparar los datos para el gráfico\n",
    "rangos_str = [f\"{rango[0]:.1f}-{rango[1]:.1f}\" for rango in rangos]\n",
    "conteos = [conteo for rango, conteo in conteo_por_rango]\n",
    "\n",
    "# Crear el gráfico de barras\n",
    "plt.figure(figsize=(10, 6))\n",
    "bars = plt.bar(rangos_str, conteos, color='skyblue')\n",
    "\n",
    "# Agregar etiquetas sobre cada barra\n",
    "for bar in bars:\n",
    "    yval = bar.get_height()\n",
    "    plt.text(bar.get_x() + bar.get_width()/2, yval, int(yval), ha='center', va='bottom')\n",
    "\n",
    "plt.xlabel('Rangos de sol1')\n",
    "plt.ylabel('Número de personas')\n",
    "plt.title('Número de personas en cada rango de sol1')\n",
    "plt.xticks(rotation=45)\n",
    "plt.show()"
   ]
  },
  {
   "cell_type": "code",
   "execution_count": null,
   "metadata": {},
   "outputs": [],
   "source": [
    "programa_df = pd.DataFrame({'Aprobados': df_data[df_data['sol1'] >= 4.0].groupby('programa').size(), 'Reprobados': df_data[df_data['sol1'] < 4.0].groupby('programa').size()})\n",
    "programa_df.fillna(0.0, inplace=True)\n",
    "programa_df = programa_df.astype(int)   # Aseguramos que todos los valores sean enteros\n",
    "y = np.arange(len(programa_df.index))   # las ubicaciones de las etiquetas\n",
    "height = 0.25                           # la altura de las barras\n",
    "multiplier = 0\n",
    "\n",
    "fig, ax = plt.subplots(figsize=(14, 6))\n",
    "\n",
    "for attribute, measurement in programa_df.to_dict().items():\n",
    "    offset = height * multiplier\n",
    "    rects = ax.barh(y + offset, measurement.values(), height, label=attribute)\n",
    "    ax.bar_label(rects, padding=3)\n",
    "    multiplier += 1\n",
    "\n",
    "# Añadir algunos textos para etiquetas, título y etiquetas personalizadas del eje x, etc.\n",
    "ax.set_xlabel('Cantidad')\n",
    "ax.set_title('Estudiantes aprobados y reprobados por programa (Solemne 1)')\n",
    "ax.set_yticks(y + height / 2)\n",
    "ax.set_yticklabels(programa_df.index)\n",
    "ax.legend(loc='lower right')\n",
    "ax.set_xlim(0, programa_df.max().max() + 10)  # Ajuste de límites del eje x\n",
    "\n",
    "plt.show()"
   ]
  },
  {
   "cell_type": "markdown",
   "metadata": {},
   "source": [
    "## 3. PREPARACIÓN DE LOS DATOS"
   ]
  },
  {
   "cell_type": "code",
   "execution_count": 1,
   "metadata": {},
   "outputs": [],
   "source": [
    "# MODULOS\n",
    "import warnings\n",
    "import numpy as np \n",
    "import pandas as pd\n",
    "warnings.filterwarnings('ignore')\n",
    "\n",
    "# RUTAS\n",
    "DIR_DATA_ORIGINAL = './data/original'\n",
    "DIR_DATA_LIMPIA = './data/cleaning'"
   ]
  },
  {
   "cell_type": "markdown",
   "metadata": {},
   "source": [
    "#### EJERCICIOS (ITEMS)"
   ]
  },
  {
   "cell_type": "code",
   "execution_count": null,
   "metadata": {},
   "outputs": [],
   "source": [
    "# CARGAR DATASETS DE CATALOGO DE EJERCICIOS\n",
    "# Se importa un archivo CSV que contiene información sobre un catálogo de ejercicios. \n",
    "df_catalogo = pd.read_csv(f\"{DIR_DATA_ORIGINAL}/catalogo.csv\", sep=\";\", encoding=\"latin1\")\n",
    "\n",
    "# Convertir la columna 'hito' a una representación binaria de 4 bits.\n",
    "# La función apply aplica la conversión solo a valores entre 1 y 4, retornando None para otros valores.\n",
    "hitos = df_catalogo['hito'].apply(lambda x: format(x, '04b') if 1 <= x <= 4 else None)\n",
    "\n",
    "# Crear columnas h1, h2, h3, h4 a partir de la representación binaria obtenida.\n",
    "# Cada columna h1 a h4 representa un bit de la conversión binaria de 'hito'.\n",
    "df_catalogo['h1'] = hitos.apply(lambda x: x[0] if x else None)  # Primer bit (más significativo)\n",
    "df_catalogo['h2'] = hitos.apply(lambda x: x[1] if x else None)  # Segundo bit\n",
    "df_catalogo['h3'] = hitos.apply(lambda x: x[2] if x else None)  # Tercer bit\n",
    "df_catalogo['h4'] = hitos.apply(lambda x: x[3] if x else None)  # Cuarto bit (menos significativo)\n",
    "\n",
    "# Crear una nueva columna 'id_ejercicio' que asigna un identificador único a cada ejercicio.\n",
    "# Esto se realiza utilizando un rango basado en el número de filas en el DataFrame.\n",
    "df_catalogo['id_ejercicio'] = range(len(df_catalogo))\n",
    "\n",
    "# Reorganizar las columnas del DataFrame, manteniendo solo las columnas relevantes para el análisis.\n",
    "df_catalogo = df_catalogo[['id_ejercicio', 'nombre', 'h1', 'h2', 'h3', 'h4', 's1', 's2', 's3', 's4', 'k1', 'k2', 'k3', 'k4', 'hito', 'skill', 'knowledge', 'complexity']]\n",
    "\n",
    "# Crear una nueva columna 'complexity12' que representa la complejidad de cada ejercicio como un número entero.\n",
    "# Se concatena la representación en string de las columnas relevantes, se rellena con ceros a la izquierda\n",
    "# hasta alcanzar 12 bits, y se convierte la cadena binaria resultante a un entero.\n",
    "df_catalogo['complexity12'] = (\n",
    "    df_catalogo[['h1', 'h2', 'h3', 'h4', 's1', 's2', 's3', 's4', 'k1', 'k2', 'k3', 'k4']]\n",
    "    .astype(str)  # Convertir a string para concatenar\n",
    "    .agg(''.join, axis=1)  # Concatenar las columnas en una sola cadena\n",
    "    .apply(lambda x: int(x.zfill(12), 2))  # Convertir la cadena binaria a entero\n",
    ")\n",
    "\n",
    "# Guardar el DataFrame modificado en un nuevo archivo CSV, sin incluir el índice.\n",
    "df_catalogo.to_csv(f'{DIR_DATA_LIMPIA}/catalogo.csv', index=False)\n",
    "\n",
    "df_catalogo.head(10)"
   ]
  },
  {
   "cell_type": "markdown",
   "metadata": {},
   "source": [
    "#### DATA_A & DATA_A_2021"
   ]
  },
  {
   "cell_type": "code",
   "execution_count": 30,
   "metadata": {},
   "outputs": [],
   "source": [
    "# Se importa el archivo CSV que contiene datos de un conjunto de ejercicios (dataset_a).\n",
    "df_data_a = pd.read_csv(f\"{DIR_DATA_ORIGINAL}/dataset_a.csv\", sep=\";\", encoding=\"latin1\")\n",
    "\n",
    "# Se importa un segundo archivo CSV que contiene datos del año 2021 (dataset_a_2021).\n",
    "df_data_a_2021 = pd.read_csv(f\"{DIR_DATA_ORIGINAL}/dataset_a_2021.csv\", sep=\";\", encoding=\"latin1\")\n",
    "\n",
    "# Se ordena el DataFrame df_data_a por la columna 'rut' en orden ascendente.\n",
    "df_data_a = df_data_a.sort_values(by='rut', ascending=True)\n",
    "\n",
    "# Se ordena el DataFrame df_data_a_2021 por la columna 'id' en orden ascendente.\n",
    "# Luego, se elimina la columna 'id' del DataFrame.\n",
    "df_data_a_2021 = df_data_a_2021.sort_values(by='id', ascending=True).drop(labels=['id'], axis=1)\n",
    "\n",
    "# Se corrige el rango de 'rut' en df_data_a_2021 para que no se repitan.\n",
    "# Los nuevos 'rut' se asignan en un rango basado en el número de filas en df_data_a.\n",
    "df_data_a_2021['rut'] = list(range(df_data_a.shape[0], df_data_a.shape[0] + df_data_a_2021.shape[0]))  # Rango ajustado\n",
    "\n",
    "# Se seleccionan columnas relevantes del DataFrame df_data_a y se renombrarán algunas de ellas para una mejor claridad.\n",
    "df_data1 = df_data_a[['rut','programa', 'hito1', 'hito2', 'hito3', 'hito4', 'exitosos', 'fallidos', 'e1', 'e2', 'e3', 'e4', 'sol1', 'sol2', 'sol3', 'sol4']]\n",
    "df_data1.columns = ['id_estudiante','programa', 'hito1', 'hito2', 'hito3', 'hito4', 'exitosos', 'fallidos', 'ejercicios_hito1', 'ejercicios_hito2', 'ejercicios_hito3', 'ejercicios_hito4', 'sol1', 'sol2', 'sol3', 'sol4']\n",
    "\n",
    "# Se seleccionan columnas relevantes del DataFrame df_data_a_2021 y se renombrarán algunas de ellas para mantener la coherencia.\n",
    "df_data2 = df_data_a_2021[['rut', 'programa', 'hito1', 'hito2', 'hito3', 'hito4', 'exitosos', 'fallidos', 'p1', 'p2', 'p3', 'p4', 'sol1']]\n",
    "df_data2.columns = ['id_estudiante', 'programa', 'hito1', 'hito2', 'hito3', 'hito4', 'exitosos', 'fallidos', 'ejercicios_hito1', 'ejercicios_hito2', 'ejercicios_hito3', 'ejercicios_hito4', 'sol1']\n",
    "\n",
    "# Se reemplazan los códigos de programa por nombres descriptivos en df_data2.\n",
    "df_data2['programa'] = df_data2['programa'].replace({\n",
    "    'UNAB12100':'INGENIERIA CIVIL INDUSTRIAL',\n",
    "    'UNAB22115':'INGENIERIA CIVIL INDUSTRIAL',\n",
    "    'UNAB22100':'INGENIERIA CIVIL INDUSTRIAL',\n",
    "    'UNAB22510':'INGENIERIA INDUSTRIAL',\n",
    "    'UNAB12510':'INGENIERIA INDUSTRIAL',\n",
    "    'UNAB22505':'INGENIERIA INDUSTRIAL',\n",
    "    'UNAB21503':'INGENIERIA EN COMPUTACION E INFORMATICA',\n",
    "    'UNAB11500':'INGENIERIA EN COMPUTACION E INFORMATICA',\n",
    "    'UNAB21500':'INGENIERIA EN COMPUTACION E INFORMATICA',\n",
    "    'UNAB12210':'INGENIERIA CIVIL INFORMATICA',\n",
    "    'UNAB18000':'BACHILLERATO EN CIENCIAS',\n",
    "})\n",
    "\n",
    "# Se eliminan estudiantes de carreras no relacionadas directamente con la asignatura \n",
    "# o que están en programas superiores al pregrado.\n",
    "df_data2.drop(df_data2.query(\" `programa`=='UNAB16507' or `programa`=='UNAB35636' or `programa`=='UNAB10100' \").index, inplace=True)\n",
    "\n",
    "\n",
    "# Crear una copia de df_data1 y eliminar registros de estudiantes que no cumplen con los criterios de éxito.\n",
    "df1 = df_data1.copy()\n",
    "# Eliminar registros donde todos los hitos son menores a 1.\n",
    "df1.drop(df1.query(\"`hito1` < 1 and `hito2` < 1 and `hito3` < 1 and `hito4` < 1\").index, inplace=True)\n",
    "# Eliminar registros donde los ejercicios tienen un puntaje menor a 4.0.\n",
    "df1.drop(df1.query(\"`sol1` < 4.0 and `sol2` < 4.0 and `sol3` < 4.0 and `sol4` < 4.0\").index, inplace=True)\n",
    "\n",
    "\n",
    "# Procesar df_data2 de manera similar.\n",
    "df2 = df_data2.copy()\n",
    "# Eliminar registros donde todos los hitos son menores a 1.\n",
    "df2.drop(df2.query(\"`hito1` < 1 and `hito2` < 1 and `hito3` < 1 and `hito4` < 1\").index, inplace=True)\n",
    "# Eliminar registros donde 'sol1' es menor a 4.0.\n",
    "df2.drop(df2.query(\"`sol1` < 4.0\").index, inplace=True)\n",
    "\n",
    "\n",
    "# Combinar los registros rechazados de ambos DataFrames en un solo DataFrame llamado dataset_rechazadas.\n",
    "dataset_rechazadas = pd.concat([df_data1.drop(df1.index), df_data2.drop(df2.index)])\n",
    "# Asegurar que las columnas de hitos sean de tipo entero.\n",
    "dataset_rechazadas['hito1'] = dataset_rechazadas['hito1'].astype(int)\n",
    "dataset_rechazadas['hito2'] = dataset_rechazadas['hito2'].astype(int)\n",
    "# Guardar los registros rechazados en un archivo CSV.\n",
    "dataset_rechazadas.to_csv(f'{DIR_DATA_LIMPIA}/dataset_rechazadas.csv', index=False)\n",
    "\n",
    "\n",
    "# Finalmente, todos los datos de los registros de los estudiantes se combinan en un solo DataFrame llamado dataset.\n",
    "dataset = pd.concat([df1, df2])\n",
    "# Asegurar que las columnas de hitos sean de tipo entero.\n",
    "dataset['hito1'] = dataset['hito1'].astype(int)\n",
    "dataset['hito2'] = dataset['hito2'].astype(int)\n",
    "# Guardar el DataFrame combinado en un archivo CSV.\n",
    "dataset.to_csv(f'{DIR_DATA_LIMPIA}/dataset.csv', index=False)"
   ]
  },
  {
   "cell_type": "code",
   "execution_count": null,
   "metadata": {},
   "outputs": [],
   "source": [
    "# Mostrar las primeras filas del DataFrame combinado para verificar el contenido.\n",
    "dataset.head()"
   ]
  },
  {
   "cell_type": "code",
   "execution_count": null,
   "metadata": {},
   "outputs": [],
   "source": [
    "# DATASET RECHAZADA\n",
    "dataset_rechazadas.head()"
   ]
  },
  {
   "cell_type": "markdown",
   "metadata": {},
   "source": [
    "#### PRUEBA DIAGNOSTICO (DATA_A)"
   ]
  },
  {
   "cell_type": "code",
   "execution_count": null,
   "metadata": {},
   "outputs": [],
   "source": [
    "# Filtrar y crear un nuevo DataFrame con columnas específicas del DataFrame original 'df_data_a'\n",
    "df_prueba_diagnostico = df_data_a[[\n",
    "    't1', 'r1', 'p1',\n",
    "    't2', 'r2', 'p2',\n",
    "    't3', 'r3', 'p3',\n",
    "    't4', 'r4', 'p4',\n",
    "    't5', 'r5', 'p5',\n",
    "    't6', 'r6', 'p6',\n",
    "    'op1', 'op2', 'op3', 'op4', 'op5', 'op6',\n",
    "    'score', 'score_a', 'score_p', 'score_d', 'score_s'\n",
    "]]\n",
    "\n",
    "# Agregar una nueva columna 'id_estudiante' al DataFrame 'df_prueba_diagnostico' utilizando el identificador 'rut' del DataFrame original\n",
    "df_prueba_diagnostico['id_estudiante'] = df_data_a['rut']\n",
    "\n",
    "df_prueba_diagnostico = df_prueba_diagnostico[[\n",
    "    'id_estudiante',\n",
    "    't1', 'r1', 'p1',\n",
    "    't2', 'r2', 'p2',\n",
    "    't3', 'r3', 'p3',\n",
    "    't4', 'r4', 'p4',\n",
    "    't5', 'r5', 'p5',\n",
    "    't6', 'r6', 'p6',\n",
    "    'op1', 'op2', 'op3', 'op4', 'op5', 'op6',\n",
    "    'score', 'score_a', 'score_p', 'score_d', 'score_s'\n",
    "]]\n",
    "\n",
    "# Guardar el nuevo DataFrame 'df_prueba_diagnostico' en un archivo CSV\n",
    "df_prueba_diagnostico.to_csv(f'{DIR_DATA_LIMPIA}/prueba_diagnostico.csv', index=False)  # Sin incluir índices\n",
    "\n",
    "# Mostrar las primeras cinco filas del DataFrame 'df_prueba_diagnostico' para verificar su contenido\n",
    "df_prueba_diagnostico.head()"
   ]
  },
  {
   "cell_type": "markdown",
   "metadata": {},
   "source": [
    "#### DATASET"
   ]
  },
  {
   "cell_type": "code",
   "execution_count": null,
   "metadata": {},
   "outputs": [],
   "source": [
    "dataset.info()"
   ]
  },
  {
   "cell_type": "markdown",
   "metadata": {},
   "source": [
    "> NOTA:\n",
    "\n",
    "> Los datos que se utlizaran para los experimentos y creacion del sistema de recomendacion seran los mostrados en el 'dataset'. Sin embargo, no todos los datos seran utiles para entrenar un recomendador de ejecicios, ya que existen algunas anomalias en los registros de los estudiantes que puede que afecte a las recomendaciones del modelo. Por ejemplo: estudiantes que no realizaron nada durante la asignatura y reprobaron; estudiantes que no realizaron nada durante la asignatura y aprobaron; estudiantes que hicieron pocos o varios ejercicios y reprobaron la asignatura. \n",
    "\n",
    "> Por tanto, se agrupara los registros de estudiantes con un minimo de exito para usarlo y medir como reacciona con aquellos que tuvieron poco exito durante la asignatura. "
   ]
  },
  {
   "cell_type": "markdown",
   "metadata": {},
   "source": [
    "#### MATRICES DE FACTORIZACION"
   ]
  },
  {
   "cell_type": "code",
   "execution_count": 35,
   "metadata": {},
   "outputs": [],
   "source": [
    "from models.utils.transformation import *"
   ]
  },
  {
   "cell_type": "code",
   "execution_count": 42,
   "metadata": {},
   "outputs": [],
   "source": [
    "# Llamada a la función\n",
    "matrix_factorization = create_factorization_matrix(dataset, df_catalogo, user_col='id_estudiante', items_col=['ejercicios_hito1', 'ejercicios_hito2', 'ejercicios_hito3', 'ejercicios_hito4'])\n",
    "# Llamada a la función\n",
    "matrix_factorization_rechadas = create_factorization_matrix(dataset_rechazadas, df_catalogo, user_col='id_estudiante', items_col=['ejercicios_hito1', 'ejercicios_hito2', 'ejercicios_hito3', 'ejercicios_hito4'])\n",
    "\n",
    "\n",
    "matrix_factorization.to_csv(f'{DIR_DATA_LIMPIA}/mf_dataset.csv', index=False)\n",
    "matrix_factorization_rechadas.to_csv(f'{DIR_DATA_LIMPIA}/mf_rechazadas.csv', index=False)\n"
   ]
  },
  {
   "cell_type": "code",
   "execution_count": null,
   "metadata": {},
   "outputs": [],
   "source": [
    "# Mostrar la matriz de factorización resultante\n",
    "matrix_factorization"
   ]
  },
  {
   "cell_type": "code",
   "execution_count": null,
   "metadata": {},
   "outputs": [],
   "source": [
    "# Mostrar la matriz de factorización resultante\n",
    "matrix_factorization_rechadas"
   ]
  },
  {
   "cell_type": "code",
   "execution_count": null,
   "metadata": {},
   "outputs": [],
   "source": []
  },
  {
   "cell_type": "code",
   "execution_count": null,
   "metadata": {},
   "outputs": [],
   "source": []
  },
  {
   "cell_type": "code",
   "execution_count": null,
   "metadata": {},
   "outputs": [],
   "source": []
  },
  {
   "cell_type": "markdown",
   "metadata": {},
   "source": [
    "## 4. MODELAMIENTO"
   ]
  },
  {
   "cell_type": "code",
   "execution_count": null,
   "metadata": {},
   "outputs": [],
   "source": []
  },
  {
   "cell_type": "markdown",
   "metadata": {},
   "source": [
    "## 5. EVALUCIÓN"
   ]
  },
  {
   "cell_type": "code",
   "execution_count": null,
   "metadata": {},
   "outputs": [],
   "source": []
  },
  {
   "cell_type": "markdown",
   "metadata": {},
   "source": [
    "## 6. IMPLEMENTACIÓN"
   ]
  },
  {
   "cell_type": "code",
   "execution_count": null,
   "metadata": {},
   "outputs": [],
   "source": []
  }
 ],
 "metadata": {
  "kernelspec": {
   "display_name": ".sistema-de-recomendacion-unab-env",
   "language": "python",
   "name": "python3"
  },
  "language_info": {
   "codemirror_mode": {
    "name": "ipython",
    "version": 3
   },
   "file_extension": ".py",
   "mimetype": "text/x-python",
   "name": "python",
   "nbconvert_exporter": "python",
   "pygments_lexer": "ipython3",
   "version": "3.12.3"
  }
 },
 "nbformat": 4,
 "nbformat_minor": 2
}
